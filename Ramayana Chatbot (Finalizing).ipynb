{
 "cells": [
  {
   "cell_type": "code",
   "execution_count": 1,
   "metadata": {},
   "outputs": [
    {
     "name": "stderr",
     "output_type": "stream",
     "text": [
      "C:\\Users\\91629\\AppData\\Roaming\\Python\\Python312\\site-packages\\pinecone\\data\\index.py:1: TqdmWarning: IProgress not found. Please update jupyter and ipywidgets. See https://ipywidgets.readthedocs.io/en/stable/user_install.html\n",
      "  from tqdm.autonotebook import tqdm\n"
     ]
    },
    {
     "name": "stdout",
     "output_type": "stream",
     "text": [
      "WARNING:tensorflow:From C:\\Users\\91629\\AppData\\Roaming\\Python\\Python312\\site-packages\\tf_keras\\src\\losses.py:2976: The name tf.losses.sparse_softmax_cross_entropy is deprecated. Please use tf.compat.v1.losses.sparse_softmax_cross_entropy instead.\n",
      "\n"
     ]
    }
   ],
   "source": [
    "from pinecone import Pinecone\n",
    "from sentence_transformers import SentenceTransformer, CrossEncoder\n",
    "from langchain.prompts.prompt import PromptTemplate\n",
    "from langchain_ollama import ChatOllama"
   ]
  },
  {
   "cell_type": "code",
   "execution_count": 2,
   "metadata": {},
   "outputs": [],
   "source": [
    "embedding_model = SentenceTransformer(\"Alibaba-NLP/gte-large-en-v1.5\", trust_remote_code=True)\n",
    "reranking_model = CrossEncoder(\"mixedbread-ai/mxbai-rerank-xsmall-v1\")\n",
    "\n",
    "pc = Pinecone(api_key=\"abcdefghijklmnojjnfvjknsdvsv\")\n",
    "\n",
    "index_name = \"ramayana-embeddings\"\n",
    "index = pc.Index(index_name)"
   ]
  },
  {
   "cell_type": "markdown",
   "metadata": {},
   "source": [
    "## Enter your Query here"
   ]
  },
  {
   "cell_type": "markdown",
   "metadata": {},
   "source": [
    "#### In total, takes 5 minutes to answer a query"
   ]
  },
  {
   "cell_type": "code",
   "execution_count": 3,
   "metadata": {},
   "outputs": [],
   "source": [
    "query = \"How was Ram's personality, good or bad?\""
   ]
  },
  {
   "cell_type": "code",
   "execution_count": 4,
   "metadata": {},
   "outputs": [],
   "source": [
    "xq = embedding_model.encode(query).tolist()\n",
    "top_results = index.query(vector=xq, top_k=10, include_metadata=True)\n",
    "top_scores = top_results.matches  # Get the top 10 matches\n",
    "documents = [match['metadata']['text'] for match in top_scores]"
   ]
  },
  {
   "cell_type": "code",
   "execution_count": 5,
   "metadata": {},
   "outputs": [],
   "source": [
    "final_results = reranking_model.rank(query, documents, return_documents=True, top_k=5)"
   ]
  },
  {
   "cell_type": "code",
   "execution_count": 6,
   "metadata": {},
   "outputs": [],
   "source": [
    "information = final_results[0]['text']"
   ]
  },
  {
   "cell_type": "code",
   "execution_count": 7,
   "metadata": {},
   "outputs": [],
   "source": [
    "summary_template = \"\"\"\n",
    "    Given the information {information} about a prompt, I want to answer the given query from the Indian epic Ramayana: {query}.\n",
    "    You can use your knowledge along with the provide information to answer the question. However, it it given that the information passed here\n",
    "    is exactly correct, although it may have some spelling mistakes. Despite all these, if you don't know the answer, simply say No. Don't try to generate\n",
    "    wrong answers to the given query.\n",
    "\"\"\""
   ]
  },
  {
   "cell_type": "code",
   "execution_count": 8,
   "metadata": {},
   "outputs": [],
   "source": [
    "summary_prompt_template = PromptTemplate(\n",
    "    input_variables=[\"information\"], \n",
    "    template=summary_template\n",
    ")"
   ]
  },
  {
   "cell_type": "code",
   "execution_count": 9,
   "metadata": {},
   "outputs": [],
   "source": [
    "llm = ChatOllama(model='llama3', temperature=0.3)"
   ]
  },
  {
   "cell_type": "code",
   "execution_count": 10,
   "metadata": {},
   "outputs": [],
   "source": [
    "#   Will take 4 to 5 minutes to answer. Also, your laptop may lag a bit during running this...\n",
    "\n",
    "chain = summary_prompt_template | llm\n",
    "res = chain.invoke(input= {\"information\": information,\n",
    "                           \"query\": query})"
   ]
  },
  {
   "cell_type": "code",
   "execution_count": 11,
   "metadata": {},
   "outputs": [
    {
     "name": "stdout",
     "output_type": "stream",
     "text": [
      "Based on the provided information from the Indian epic Ramayana, I can conclude that Rama's personality is overwhelmingly good. The description highlights his virtues, such as:\n",
      "\n",
      "* Being virtuous and true to his promises\n",
      "* Being benevolent to his subjects and omniscient\n",
      "* Being pure and responsive to devotion\n",
      "* Being equal to Brahma in protecting his people and pleasing to look upon\n",
      "* Having infallible memory and being beloved by all\n",
      "* Possessing excellent attributes, such as patience, generosity, and truthfulness\n",
      "\n",
      "The text also describes Rama's actions, such as going into exile to fulfill his father's promise and obey the command of his royal sire. This shows that he is a dutiful son and a responsible individual.\n",
      "\n",
      "There is no mention or indication of any negative qualities or behaviors in Rama's personality. Therefore, I can confidently say that Rama's personality is good.\n"
     ]
    }
   ],
   "source": [
    "print(res.content)"
   ]
  },
  {
   "cell_type": "code",
   "execution_count": 16,
   "metadata": {},
   "outputs": [
    {
     "data": {
      "text/plain": [
       "AIMessage(content=\"Based on the provided information from the Indian epic Ramayana, I can conclude that Rama's personality is overwhelmingly good. The description highlights his virtues, such as:\\n\\n* Being virtuous and true to his promises\\n* Being benevolent to his subjects and omniscient\\n* Being pure and responsive to devotion\\n* Being equal to Brahma in protecting his people and pleasing to look upon\\n* Having infallible memory and being beloved by all\\n* Possessing excellent attributes, such as patience, generosity, and truthfulness\\n\\nThe text also describes Rama's actions, such as going into exile to fulfill his father's promise and obey the command of his royal sire. This shows that he is a dutiful son and a responsible individual.\\n\\nThere is no mention or indication of any negative qualities or behaviors in Rama's personality. Therefore, I can confidently say that Rama's personality is good.\", response_metadata={'model': 'llama3', 'created_at': '2024-07-29T04:53:26.5178134Z', 'message': {'role': 'assistant', 'content': ''}, 'done_reason': 'stop', 'done': True, 'total_duration': 385782788100, 'load_duration': 125477901700, 'prompt_eval_count': 592, 'prompt_eval_duration': 40316515000, 'eval_count': 185, 'eval_duration': 219945285000}, id='run-124cd79c-5d1d-492c-94fe-72efb4221445-0', usage_metadata={'input_tokens': 592, 'output_tokens': 185, 'total_tokens': 777})"
      ]
     },
     "execution_count": 16,
     "metadata": {},
     "output_type": "execute_result"
    }
   ],
   "source": [
    "res"
   ]
  },
  {
   "cell_type": "code",
   "execution_count": 20,
   "metadata": {},
   "outputs": [
    {
     "data": {
      "text/plain": [
       "777"
      ]
     },
     "execution_count": 20,
     "metadata": {},
     "output_type": "execute_result"
    }
   ],
   "source": [
    "res.usage_metadata"
   ]
  },
  {
   "cell_type": "code",
   "execution_count": 21,
   "metadata": {},
   "outputs": [],
   "source": [
    "new_result = {\n",
    "    \"query\": query,\n",
    "    \"result\": res.content,\n",
    "    \"source_documents\": final_results[0]['text']\n",
    "}"
   ]
  },
  {
   "cell_type": "code",
   "execution_count": 22,
   "metadata": {},
   "outputs": [
    {
     "data": {
      "text/plain": [
       "{'query': \"How was Ram's personality, good or bad?\",\n",
       " 'result': \"Based on the provided information from the Indian epic Ramayana, I can conclude that Rama's personality is overwhelmingly good. The description highlights his virtues, such as:\\n\\n* Being virtuous and true to his promises\\n* Being benevolent to his subjects and omniscient\\n* Being pure and responsive to devotion\\n* Being equal to Brahma in protecting his people and pleasing to look upon\\n* Having infallible memory and being beloved by all\\n* Possessing excellent attributes, such as patience, generosity, and truthfulness\\n\\nThe text also describes Rama's actions, such as going into exile to fulfill his father's promise and obey the command of his royal sire. This shows that he is a dutiful son and a responsible individual.\\n\\nThere is no mention or indication of any negative qualities or behaviors in Rama's personality. Therefore, I can confidently say that Rama's personality is good.\",\n",
       " 'source_documents': 'proportioned limbs and skin of bluish tint, one lCDOwned for his virtue; of prominent eyes, deep-chested, bearing auspicious marks; one who protects those who take refuge in him and is ever-mindful of the good of those dependent on him; true to his promises, benevolent to his subjects, omniscient, CDOWDcd for his good deeds, pure, and ever responsive to devotion; med-itating on his own essence.\"Equal to Brahma, the Protector of his people, pleasing to look upon; supporting the universe; the destroyer of those who contravene the moral code; the inspirer of virtue; the giver of special grace to his devotees and to those who duly observe sacrilicial rites and are charitable; conversant with the essence of the Vedic pbilnsophy; an adept in the science of warfare; skilled in the scriptural law; of infallible memory; beloved of all; of courteous disposition; incapable of cowardice; acquainted with the laws of this world as also of the other worlds.\"As the rivers hasten to the ocean, so do men of virtue ever approach him.\"Equal to Vishou• in valour; grateful to the sight as the full moon; when stirred to righteous anger, resembling all-consuming death; in patience like the earth, in generosity like Kuvera;\" in truthfulness the personification of virtue. Such are his great qualities-Ram&, the beloved heir of King Dasar-atha, possessing every e>:cellent attribute, benevolent to all, devoted to the welfare of every living being.\"His father, King Dasaratha, made preparations to install him as his regent, but the Queen Kaikeyi, cainting the boons formerly promised to her, demanded the e>:ie of Rama and the enthrone-ment of her own son Bharata. The king held by his promise and bY the ties of honour, sent his son Rama, whom he loved as his own life, into exile. Obeying the command of his royal sire, and in order to gratify Kaikeyi, Shri Rama went to the forest. The son of Queen Sumitra, Prince Lakshmana, inspired by affection and humility, followed his brother Rama into exile.l bluith-tint. •'}"
      ]
     },
     "execution_count": 22,
     "metadata": {},
     "output_type": "execute_result"
    }
   ],
   "source": [
    "new_result"
   ]
  }
 ],
 "metadata": {
  "kernelspec": {
   "display_name": "Python 3",
   "language": "python",
   "name": "python3"
  },
  "language_info": {
   "codemirror_mode": {
    "name": "ipython",
    "version": 3
   },
   "file_extension": ".py",
   "mimetype": "text/x-python",
   "name": "python",
   "nbconvert_exporter": "python",
   "pygments_lexer": "ipython3",
   "version": "3.12.4"
  }
 },
 "nbformat": 4,
 "nbformat_minor": 2
}
