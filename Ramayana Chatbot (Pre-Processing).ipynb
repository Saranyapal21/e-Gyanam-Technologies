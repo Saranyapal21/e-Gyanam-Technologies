{
 "cells": [
  {
   "cell_type": "code",
   "execution_count": 1,
   "metadata": {},
   "outputs": [
    {
     "name": "stderr",
     "output_type": "stream",
     "text": [
      "C:\\Users\\91629\\AppData\\Roaming\\Python\\Python312\\site-packages\\tqdm\\auto.py:21: TqdmWarning: IProgress not found. Please update jupyter and ipywidgets. See https://ipywidgets.readthedocs.io/en/stable/user_install.html\n",
      "  from .autonotebook import tqdm as notebook_tqdm\n"
     ]
    }
   ],
   "source": [
    "import numpy as np\n",
    "import pandas as pd\n",
    "import fitz     # PyMuPDF Library\n",
    "from tqdm.auto import tqdm      #   Visualization of Loading Bars\n",
    "import tensorflow as tf\n",
    "import keras   \n",
    "import re       #   A very powerful library for some basic text pre-processing!!"
   ]
  },
  {
   "cell_type": "markdown",
   "metadata": {},
   "source": [
    "# Loading text and pre-processing"
   ]
  },
  {
   "cell_type": "code",
   "execution_count": 2,
   "metadata": {},
   "outputs": [],
   "source": [
    "def text_formatter(text: str) -> tuple[str, str]:\n",
    "    \"\"\"\n",
    "    Performs minor formatting on text\n",
    "    \"\"\"\n",
    "    new_text = text.replace('\\n', ' ').strip()      #   All the text will be in a single line now\n",
    "    \n",
    "    # Remove double and triple spaces\n",
    "    new_text = re.sub(r'\\s{2,}', ' ', new_text)\n",
    "    \n",
    "    # Fix '- ', ' ?', ' ;' and '\" ' symbols\n",
    "    new_text = new_text.replace('- ', '-')\n",
    "    new_text = new_text.replace(' ?', '?')\n",
    "    new_text = new_text.replace(' \"', '\"')\n",
    "    new_text = new_text.replace(' ;', ';')\n",
    "    \n",
    "    new_text = new_text.replace(\"\\\\\", \"\")\n",
    "    new_text = ' '.join(new_text.split())\n",
    "    new_text = new_text.replace(r\"\\'s\", \"'s\")\n",
    "    new_text = re.sub(r'\\d+', '', new_text)\n",
    "    new_text = re.sub(r\"\\\\'|\\\\|\\'\", '', new_text)\n",
    "\n",
    "    new_text = new_text.replace('THE RAMAYANA OF VALMIKI', '')\n",
    "    new_text = new_text.replace('OF VALMIKI', '')\n",
    "    new_text = new_text.replace('RAMAYANA', '')\n",
    "    new_text = new_text.replace('THE', '')\n",
    "\n",
    "    new_text = re.sub(r'.*?VALMIKI', '', new_text)\n",
    "\n",
    "    \n",
    "    match = re.search(r'((\\b\\w+\\b\\s+){0,2})KANDA', new_text)\n",
    "    if match:\n",
    "        preceding_words = match.group(1).strip()\n",
    "        result = f\"{preceding_words} KANDA\".strip()\n",
    "    else:\n",
    "        result = \"\"\n",
    "\n",
    "    # new_text = re.sub(r'.*?KANDA', '', new_text)        #   Do u really want to use it?\n",
    "\n",
    "    return new_text, result"
   ]
  },
  {
   "cell_type": "code",
   "execution_count": 3,
   "metadata": {},
   "outputs": [],
   "source": [
    "def open_and_read_pdf(pdf_path: str) -> list[dict]:\n",
    "    \"\"\"\n",
    "    Takes in the path of the pdf file and returns a list of dictionaries containing all the details\n",
    "    You can easily convert this output into a dataframe\n",
    "    \"\"\"\n",
    "    doc = fitz.open(pdf_path)\n",
    "\n",
    "    pages_and_text = []\n",
    "    for page_num, page in tqdm(enumerate(doc)):\n",
    "        text = page.get_text()\n",
    "        if text:\n",
    "            text, Kanda = text_formatter(text)\n",
    "\n",
    "            pages_and_text.append({\n",
    "                'page_num': page_num - 18,\n",
    "                \"page_char_cnt\": len(text),\n",
    "                \"page_word_cnt\": len(text.split()),\n",
    "                \"page_sentence_cnt\": len(text.split(\".\")),\n",
    "                \"page_token_cnt\": len(text) / 4,  # 1 token => 4 English characters\n",
    "                \"text\": text,\n",
    "                \"kanda\": Kanda\n",
    "            })\n",
    "    \n",
    "    return pages_and_text"
   ]
  },
  {
   "cell_type": "code",
   "execution_count": 4,
   "metadata": {},
   "outputs": [
    {
     "name": "stderr",
     "output_type": "stream",
     "text": [
      "1709it [01:04, 26.65it/s]\n"
     ]
    }
   ],
   "source": [
    "pdf_path = \"C:/Users/91629/Desktop/6th Sem/eGyanam Technologies/Assignment 1/Ramayana.pdf\"\n",
    "doc = fitz.open(pdf_path)\n",
    "pages_and_text = open_and_read_pdf(pdf_path=pdf_path)"
   ]
  },
  {
   "cell_type": "code",
   "execution_count": 20,
   "metadata": {},
   "outputs": [
    {
     "data": {
      "text/plain": [
       "{'page_num': 649,\n",
       " 'page_char_cnt': 1862,\n",
       " 'page_word_cnt': 340,\n",
       " 'page_sentence_cnt': 9,\n",
       " 'page_token_cnt': 465.5,\n",
       " 'text': 'KISHKINDHA KANDA CHAPTER  Her I.amntationr SEEING her lord lying on the earth, pierced by that death-dealing arrow discharged by Rama, Tara, whose face resembled the moon, approaching him, embraced him. At the sight of Bali, who lay like an elephant wounded by an arrow, that monkey resembling a huge mountain or an uprooted tree, Tara poured out her heart, tom with grief, in lamentation :-\"  Thou who wert full of valour in combat !  Hero !  Best of Monkeys! It is because of my recent importunities that thou wilt not now speak to me I Rise,  Lion among Monkeys and rest on a comfortable couch ! Those great monarchs, thine equals, do not sleep on the earth; or is the earth thy cherished love, since even in dying thou dost lie by her and scornest me?\" Without doubt,  Warrior, thanks to thy great exploits, thou hast founded another and more glorious Kishkindha in heaven ! The pleasures we once shared in the woods and in the fragrant bowers are henceforth at an end. I am bereft of all joy and hope and sunk in a sea of sorrow, since thou, tbe King of Kings. art returning to the five elements. My heart must be made of stone, since, seeing thee lying on the earth, grief does not cause it to break into a thousand pieces. Thou didst steal away Sugrivas consort and sent him into exile; it is tbe fruit of this double fault that thou art now expiating,  Chief of the Monkeys !\" Intent on thy welfare, I submitted to thy senseless re-proaches; I, who in the desire to be of service to thee gave thee nought but wise counsel,  Indra of Monkeys I Now,  Proud Lord, beguiled by their youthful and seductive beauty, thou art moving the hearts of tbe Apsaras. It is irrevocable fate which this day has put an end to thine existence; thou whom Sugriva could not vanquish hast resigned thyself to its power I  The body being aaid to rejoin the elements at death. ',\n",
       " 'kanda': 'KISHKINDHA KANDA'}"
      ]
     },
     "execution_count": 20,
     "metadata": {},
     "output_type": "execute_result"
    }
   ],
   "source": [
    "import random\n",
    "num = random.randint(0, 1709)\n",
    "pages_and_text[num]"
   ]
  },
  {
   "cell_type": "code",
   "execution_count": 21,
   "metadata": {},
   "outputs": [],
   "source": [
    "def simple_formatter(new_text: str) ->str:\n",
    "    new_text = new_text.replace('\\n', ' ').strip()      #   All the text will be in a single line now\n",
    "    \n",
    "    # Remove double and triple spaces\n",
    "    new_text = re.sub(r'\\s{2,}', ' ', new_text)\n",
    "    \n",
    "    # Fix '- ', ' ?', ' ;' and '\" ' symbols\n",
    "    new_text = new_text.replace('- ', '-')\n",
    "    new_text = new_text.replace(' ?', '?')\n",
    "    new_text = new_text.replace(' \"', '\"')\n",
    "    new_text = new_text.replace(' ;', ';')\n",
    "    \n",
    "    new_text = new_text.replace(\"\\\\\", \"\")\n",
    "    new_text = ' '.join(new_text.split())\n",
    "    new_text = new_text.replace(r\"\\'s\", \"'s\")\n",
    "    new_text = re.sub(r'\\d+', '', new_text)\n",
    "    new_text = re.sub(r\"\\\\'|\\\\|\\'\", '', new_text)\n",
    "\n",
    "    return new_text"
   ]
  },
  {
   "cell_type": "code",
   "execution_count": 22,
   "metadata": {},
   "outputs": [
    {
     "name": "stdout",
     "output_type": "stream",
     "text": [
      "Count of pages: 0\n",
      "[]\n"
     ]
    }
   ],
   "source": [
    "#   Error: No text got filtered for these pages\n",
    "#       However: 8/1709 => 0.4%. So, maybe you can manually add the text of these 8 pages as well..!!\n",
    "cnt = 0\n",
    "pages = []\n",
    "for item in pages_and_text:\n",
    "    if len(item['text']) == 0:\n",
    "        cnt += 1\n",
    "        pages.append(item['page_num'])\n",
    "\n",
    "\n",
    "print(f\"Count of pages: {cnt}\")\n",
    "print(pages)"
   ]
  },
  {
   "cell_type": "code",
   "execution_count": 23,
   "metadata": {},
   "outputs": [],
   "source": [
    "df = pd.DataFrame(pages_and_text)"
   ]
  },
  {
   "cell_type": "code",
   "execution_count": 24,
   "metadata": {},
   "outputs": [
    {
     "name": "stderr",
     "output_type": "stream",
     "text": [
      "0it [00:00, ?it/s]\n"
     ]
    }
   ],
   "source": [
    "#   Adding those pages which could not come (didn't perform any filtering here)\n",
    "for page in tqdm(pages):\n",
    "    m = simple_formatter(doc.get_page_text(pno= page-18))\n",
    "    \n",
    "    # Find the index for the current page\n",
    "    idx = df[df['page_num'] == page].index\n",
    "    \n",
    "    if not idx.empty:\n",
    "        df.loc[idx, 'text'] = m\n",
    "        df.loc[idx, 'page_char_cnt'] = len(m)\n",
    "        df.loc[idx, 'page_word_cnt'] = len(m.split())\n",
    "        df.loc[idx, 'page_sentence_cnt'] = len(m.split(\".\"))\n",
    "        df.loc[idx, 'token_cnt'] = (len(m.split(\".\")) / 4)"
   ]
  },
  {
   "cell_type": "code",
   "execution_count": 23,
   "metadata": {},
   "outputs": [],
   "source": [
    "#   Kandas missing from so many pages....!!\n",
    "\n",
    "\n",
    "# c = 0\n",
    "# for item in df['kanda']:\n",
    "#     if item == \"\":\n",
    "#         c += 1\n",
    "\n",
    "# print(c)"
   ]
  },
  {
   "cell_type": "code",
   "execution_count": 25,
   "metadata": {},
   "outputs": [
    {
     "data": {
      "text/html": [
       "<div>\n",
       "<style scoped>\n",
       "    .dataframe tbody tr th:only-of-type {\n",
       "        vertical-align: middle;\n",
       "    }\n",
       "\n",
       "    .dataframe tbody tr th {\n",
       "        vertical-align: top;\n",
       "    }\n",
       "\n",
       "    .dataframe thead th {\n",
       "        text-align: right;\n",
       "    }\n",
       "</style>\n",
       "<table border=\"1\" class=\"dataframe\">\n",
       "  <thead>\n",
       "    <tr style=\"text-align: right;\">\n",
       "      <th></th>\n",
       "      <th>count</th>\n",
       "      <th>mean</th>\n",
       "      <th>std</th>\n",
       "      <th>min</th>\n",
       "      <th>25%</th>\n",
       "      <th>50%</th>\n",
       "      <th>75%</th>\n",
       "      <th>max</th>\n",
       "    </tr>\n",
       "  </thead>\n",
       "  <tbody>\n",
       "    <tr>\n",
       "      <th>page_num</th>\n",
       "      <td>1703.0</td>\n",
       "      <td>837.10</td>\n",
       "      <td>493.60</td>\n",
       "      <td>-18.00</td>\n",
       "      <td>409.50</td>\n",
       "      <td>837.0</td>\n",
       "      <td>1264.50</td>\n",
       "      <td>1690.0</td>\n",
       "    </tr>\n",
       "    <tr>\n",
       "      <th>page_char_cnt</th>\n",
       "      <td>1703.0</td>\n",
       "      <td>1981.76</td>\n",
       "      <td>314.63</td>\n",
       "      <td>17.00</td>\n",
       "      <td>1831.50</td>\n",
       "      <td>2002.0</td>\n",
       "      <td>2205.00</td>\n",
       "      <td>2604.0</td>\n",
       "    </tr>\n",
       "    <tr>\n",
       "      <th>page_word_cnt</th>\n",
       "      <td>1703.0</td>\n",
       "      <td>338.49</td>\n",
       "      <td>57.03</td>\n",
       "      <td>4.00</td>\n",
       "      <td>311.00</td>\n",
       "      <td>343.0</td>\n",
       "      <td>377.00</td>\n",
       "      <td>463.0</td>\n",
       "    </tr>\n",
       "    <tr>\n",
       "      <th>page_sentence_cnt</th>\n",
       "      <td>1703.0</td>\n",
       "      <td>16.19</td>\n",
       "      <td>14.42</td>\n",
       "      <td>1.00</td>\n",
       "      <td>9.00</td>\n",
       "      <td>12.0</td>\n",
       "      <td>16.00</td>\n",
       "      <td>102.0</td>\n",
       "    </tr>\n",
       "    <tr>\n",
       "      <th>page_token_cnt</th>\n",
       "      <td>1703.0</td>\n",
       "      <td>495.44</td>\n",
       "      <td>78.66</td>\n",
       "      <td>4.25</td>\n",
       "      <td>457.88</td>\n",
       "      <td>500.5</td>\n",
       "      <td>551.25</td>\n",
       "      <td>651.0</td>\n",
       "    </tr>\n",
       "  </tbody>\n",
       "</table>\n",
       "</div>"
      ],
      "text/plain": [
       "                    count     mean     std    min      25%     50%      75%  \\\n",
       "page_num           1703.0   837.10  493.60 -18.00   409.50   837.0  1264.50   \n",
       "page_char_cnt      1703.0  1981.76  314.63  17.00  1831.50  2002.0  2205.00   \n",
       "page_word_cnt      1703.0   338.49   57.03   4.00   311.00   343.0   377.00   \n",
       "page_sentence_cnt  1703.0    16.19   14.42   1.00     9.00    12.0    16.00   \n",
       "page_token_cnt     1703.0   495.44   78.66   4.25   457.88   500.5   551.25   \n",
       "\n",
       "                      max  \n",
       "page_num           1690.0  \n",
       "page_char_cnt      2604.0  \n",
       "page_word_cnt       463.0  \n",
       "page_sentence_cnt   102.0  \n",
       "page_token_cnt      651.0  "
      ]
     },
     "execution_count": 25,
     "metadata": {},
     "output_type": "execute_result"
    }
   ],
   "source": [
    "df.describe().T.round(2)"
   ]
  },
  {
   "cell_type": "code",
   "execution_count": 26,
   "metadata": {},
   "outputs": [
    {
     "data": {
      "text/html": [
       "<div>\n",
       "<style scoped>\n",
       "    .dataframe tbody tr th:only-of-type {\n",
       "        vertical-align: middle;\n",
       "    }\n",
       "\n",
       "    .dataframe tbody tr th {\n",
       "        vertical-align: top;\n",
       "    }\n",
       "\n",
       "    .dataframe thead th {\n",
       "        text-align: right;\n",
       "    }\n",
       "</style>\n",
       "<table border=\"1\" class=\"dataframe\">\n",
       "  <thead>\n",
       "    <tr style=\"text-align: right;\">\n",
       "      <th></th>\n",
       "      <th>page_num</th>\n",
       "      <th>page_char_cnt</th>\n",
       "      <th>page_word_cnt</th>\n",
       "      <th>page_sentence_cnt</th>\n",
       "      <th>page_token_cnt</th>\n",
       "      <th>text</th>\n",
       "      <th>kanda</th>\n",
       "    </tr>\n",
       "  </thead>\n",
       "  <tbody>\n",
       "    <tr>\n",
       "      <th>984</th>\n",
       "      <td>971</td>\n",
       "      <td>1211</td>\n",
       "      <td>187</td>\n",
       "      <td>64</td>\n",
       "      <td>302.75</td>\n",
       "      <td>GLOSSARY K.sHA. A Whip. KouMODAK!. A Weapon gi...</td>\n",
       "      <td></td>\n",
       "    </tr>\n",
       "    <tr>\n",
       "      <th>985</th>\n",
       "      <td>972</td>\n",
       "      <td>1189</td>\n",
       "      <td>184</td>\n",
       "      <td>62</td>\n",
       "      <td>297.25</td>\n",
       "      <td>GLOSSARY p PAISHA AsTRA. The Ghosdy Weapoa, be...</td>\n",
       "      <td></td>\n",
       "    </tr>\n",
       "    <tr>\n",
       "      <th>986</th>\n",
       "      <td>973</td>\n",
       "      <td>1247</td>\n",
       "      <td>188</td>\n",
       "      <td>63</td>\n",
       "      <td>311.75</td>\n",
       "      <td>GLOSSARY SBATAGNI. Either I spited mace or I S...</td>\n",
       "      <td></td>\n",
       "    </tr>\n",
       "    <tr>\n",
       "      <th>987</th>\n",
       "      <td>974</td>\n",
       "      <td>72</td>\n",
       "      <td>14</td>\n",
       "      <td>5</td>\n",
       "      <td>18.00</td>\n",
       "      <td>GLOSSARY w X y YAMIYA. The Weapon of\" Dead&gt;. Y...</td>\n",
       "      <td></td>\n",
       "    </tr>\n",
       "    <tr>\n",
       "      <th>988</th>\n",
       "      <td>976</td>\n",
       "      <td>114</td>\n",
       "      <td>17</td>\n",
       "      <td>4</td>\n",
       "      <td>28.50</td>\n",
       "      <td>Translated by HARI PRASAD SHASTRI Vol. III. Y...</td>\n",
       "      <td>YUDDHA KANDA</td>\n",
       "    </tr>\n",
       "    <tr>\n",
       "      <th>989</th>\n",
       "      <td>977</td>\n",
       "      <td>73</td>\n",
       "      <td>11</td>\n",
       "      <td>1</td>\n",
       "      <td>18.25</td>\n",
       "      <td>Prinl~tl ia Gr•tll Brilaifl at lh# BuaLBJGR Pa...</td>\n",
       "      <td></td>\n",
       "    </tr>\n",
       "    <tr>\n",
       "      <th>990</th>\n",
       "      <td>978</td>\n",
       "      <td>1586</td>\n",
       "      <td>282</td>\n",
       "      <td>30</td>\n",
       "      <td>396.50</td>\n",
       "      <td>CONTENTS BooK VI-YUDDHA KANDA CHAPTER PAGE I. ...</td>\n",
       "      <td>YUDDHA KANDA</td>\n",
       "    </tr>\n",
       "    <tr>\n",
       "      <th>991</th>\n",
       "      <td>979</td>\n",
       "      <td>1734</td>\n",
       "      <td>309</td>\n",
       "      <td>31</td>\n",
       "      <td>433.50</td>\n",
       "      <td>CONTENTS CHAPTER PAGE · Malyavan advises Ravan...</td>\n",
       "      <td></td>\n",
       "    </tr>\n",
       "    <tr>\n",
       "      <th>992</th>\n",
       "      <td>980</td>\n",
       "      <td>1785</td>\n",
       "      <td>325</td>\n",
       "      <td>34</td>\n",
       "      <td>446.25</td>\n",
       "      <td>CONTENTS PAGE · Lanka is set on fire by the Mo...</td>\n",
       "      <td></td>\n",
       "    </tr>\n",
       "    <tr>\n",
       "      <th>993</th>\n",
       "      <td>981</td>\n",
       "      <td>765</td>\n",
       "      <td>141</td>\n",
       "      <td>19</td>\n",
       "      <td>191.25</td>\n",
       "      <td>CONTENTS CHAPTER PAGE . Hanuman carries Ramas ...</td>\n",
       "      <td></td>\n",
       "    </tr>\n",
       "    <tr>\n",
       "      <th>994</th>\n",
       "      <td>982</td>\n",
       "      <td>1546</td>\n",
       "      <td>281</td>\n",
       "      <td>27</td>\n",
       "      <td>386.50</td>\n",
       "      <td>CONTENTS BooK VII-UTTARA KANDA CHAPTER PAGE I....</td>\n",
       "      <td>UTTARA KANDA</td>\n",
       "    </tr>\n",
       "  </tbody>\n",
       "</table>\n",
       "</div>"
      ],
      "text/plain": [
       "     page_num  page_char_cnt  page_word_cnt  page_sentence_cnt  \\\n",
       "984       971           1211            187                 64   \n",
       "985       972           1189            184                 62   \n",
       "986       973           1247            188                 63   \n",
       "987       974             72             14                  5   \n",
       "988       976            114             17                  4   \n",
       "989       977             73             11                  1   \n",
       "990       978           1586            282                 30   \n",
       "991       979           1734            309                 31   \n",
       "992       980           1785            325                 34   \n",
       "993       981            765            141                 19   \n",
       "994       982           1546            281                 27   \n",
       "\n",
       "     page_token_cnt                                               text  \\\n",
       "984          302.75  GLOSSARY K.sHA. A Whip. KouMODAK!. A Weapon gi...   \n",
       "985          297.25  GLOSSARY p PAISHA AsTRA. The Ghosdy Weapoa, be...   \n",
       "986          311.75  GLOSSARY SBATAGNI. Either I spited mace or I S...   \n",
       "987           18.00  GLOSSARY w X y YAMIYA. The Weapon of\" Dead>. Y...   \n",
       "988           28.50   Translated by HARI PRASAD SHASTRI Vol. III. Y...   \n",
       "989           18.25  Prinl~tl ia Gr•tll Brilaifl at lh# BuaLBJGR Pa...   \n",
       "990          396.50  CONTENTS BooK VI-YUDDHA KANDA CHAPTER PAGE I. ...   \n",
       "991          433.50  CONTENTS CHAPTER PAGE · Malyavan advises Ravan...   \n",
       "992          446.25  CONTENTS PAGE · Lanka is set on fire by the Mo...   \n",
       "993          191.25  CONTENTS CHAPTER PAGE . Hanuman carries Ramas ...   \n",
       "994          386.50  CONTENTS BooK VII-UTTARA KANDA CHAPTER PAGE I....   \n",
       "\n",
       "            kanda  \n",
       "984                \n",
       "985                \n",
       "986                \n",
       "987                \n",
       "988  YUDDHA KANDA  \n",
       "989                \n",
       "990  YUDDHA KANDA  \n",
       "991                \n",
       "992                \n",
       "993                \n",
       "994  UTTARA KANDA  "
      ]
     },
     "execution_count": 26,
     "metadata": {},
     "output_type": "execute_result"
    }
   ],
   "source": [
    "df.iloc[984:995]"
   ]
  },
  {
   "cell_type": "markdown",
   "metadata": {},
   "source": [
    "# Further text pre-processing using Spacy"
   ]
  },
  {
   "cell_type": "code",
   "execution_count": 27,
   "metadata": {},
   "outputs": [],
   "source": [
    "from spacy.lang.en import English"
   ]
  },
  {
   "cell_type": "code",
   "execution_count": 28,
   "metadata": {},
   "outputs": [
    {
     "name": "stderr",
     "output_type": "stream",
     "text": [
      "100%|██████████| 1703/1703 [00:05<00:00, 326.19it/s]\n"
     ]
    }
   ],
   "source": [
    "nlp = English()\n",
    "nlp.add_pipe('sentencizer')\n",
    "\n",
    "for item in tqdm(pages_and_text):\n",
    "    item['sentences'] = list(nlp(item['text']).sents)\n",
    "\n",
    "    #   Make sure all datatypes are strings (the default type is SpaCy datatype)\n",
    "    item['sentences'] = [str(sent) for sent in item['sentences']]\n",
    "\n",
    "    #   Count the Sentences\n",
    "    item['page_sentence_count_spacy'] = len(item['sentences'])"
   ]
  },
  {
   "cell_type": "code",
   "execution_count": 29,
   "metadata": {},
   "outputs": [
    {
     "data": {
      "text/plain": [
       "{'page_num': 948,\n",
       " 'page_char_cnt': 1758,\n",
       " 'page_word_cnt': 283,\n",
       " 'page_sentence_cnt': 87,\n",
       " 'page_token_cnt': 439.5,\n",
       " 'text': 'GLOSSARY to be bom of the sacred cow Sbabola for her proteclioll. See Balakanda. MllmANGA. A kind of drum. MlltGt. Daughter of Krodhavasha, mother of elephants. MRrrYu. The God of Death, anotber name for Yama. Mt:HURTA. An instant, a moment, an hour, according to the context. MUNt. A holy Sage, a pious and learned person, a tide applied to Rishis and others. MURAGA. A tamboutine. MUSHTII<AS. People cursed by Vishwamitra who assumed the lowest caste. N NABHAGA. The son of Yayati and fatber of Aja, who was Dasarathas father. NAGAS. The Serpent Race. NAHISHA. The father of King Yayati, Nahushas curious story is found in the Mahabharata and Putanas. NAIRJUTAS. A race of Demons, offs~ of Nainiti or Niritti. NARAPRISIITA. The highest heaven (from Nab-vault) in which there is no unhappiness. NAKSHATRAS. The Hindus, beside the common division of the Zodiac into twelve signs, divided it into  Nakshatras, two to each sign. Each Nakshatra has its appropriate name :-I. Aswini. . Bharani. · Krittil:a. · Rohini. S· Mrga-shriras. . Ardea. · Putnavasu. . Pushya. · Alesha. . Mllgns. II. Putva-phalguni. . Urtaraphalguni. . ~j· !th.~i:;: lfcl.~va~o.~~-· ~tf.;!:. s~. . Abijit. . Shravana. · Shravishtha or Dhanishta. . Shatabbishaj. . Putva Bhadrapada. . Uttara-Bhadrapada. . Revati. (The laat is used if Abijit is omitted.) NALA. A mollkey chief, a general in Sugrivas army. NALINt. A river. NAMUCHI. A demon slain by lndra. NANDANA. lndras celestial garden. NANDI. Sacred bull, the vehicle of Shiva, symbolising the Sattwa-guna, q.v. NANDIGRAMA. The city from which Bharata ruled in the absence of Rama. NAIIADA. A divine Sage who appeared to Valmiki, see Balakanda. NAUt<A. Hell, a place of tortute where the wicked are sent. Manu enlllllrel rwenry hells. ',\n",
       " 'kanda': '',\n",
       " 'sentences': ['GLOSSARY to be bom of the sacred cow Sbabola for her proteclioll.',\n",
       "  'See Balakanda.',\n",
       "  'MllmANGA.',\n",
       "  'A kind of drum.',\n",
       "  'MlltGt.',\n",
       "  'Daughter of Krodhavasha, mother of elephants.',\n",
       "  'MRrrYu.',\n",
       "  'The God of Death, anotber name for Yama.',\n",
       "  'Mt:HURTA.',\n",
       "  'An instant, a moment, an hour, according to the context.',\n",
       "  'MUNt.',\n",
       "  'A holy Sage, a pious and learned person, a tide applied to Rishis and others.',\n",
       "  'MURAGA.',\n",
       "  'A tamboutine.',\n",
       "  'MUSHTII<AS.',\n",
       "  'People cursed by Vishwamitra who assumed the lowest caste.',\n",
       "  'N NABHAGA.',\n",
       "  'The son of Yayati and fatber of Aja, who was Dasarathas father.',\n",
       "  'NAGAS.',\n",
       "  'The Serpent Race.',\n",
       "  'NAHISHA.',\n",
       "  'The father of King Yayati, Nahushas curious story is found in the Mahabharata and Putanas.',\n",
       "  'NAIRJUTAS.',\n",
       "  'A race of Demons, offs~ of Nainiti or Niritti.',\n",
       "  'NARAPRISIITA.',\n",
       "  'The highest heaven (from Nab-vault) in which there is no unhappiness.',\n",
       "  'NAKSHATRAS.',\n",
       "  'The Hindus, beside the common division of the Zodiac into twelve signs, divided it into  Nakshatras, two to each sign.',\n",
       "  'Each Nakshatra has its appropriate name :-I. Aswini. .',\n",
       "  'Bharani. ·',\n",
       "  'Krittil:a. · Rohini.',\n",
       "  'S· Mrga-shriras. .',\n",
       "  'Ardea. ·',\n",
       "  'Putnavasu. .',\n",
       "  'Pushya. ·',\n",
       "  'Alesha. .',\n",
       "  'Mllgns.',\n",
       "  'II.',\n",
       "  'Putva-phalguni. .',\n",
       "  'Urtaraphalguni. .',\n",
       "  '~j· !',\n",
       "  'th.~i:;: lfcl.~va~o.~~-· ~tf.;!:.',\n",
       "  's~. .',\n",
       "  'Abijit. .',\n",
       "  'Shravana. ·',\n",
       "  'Shravishtha or Dhanishta. .',\n",
       "  'Shatabbishaj. .',\n",
       "  'Putva Bhadrapada. .',\n",
       "  'Uttara-Bhadrapada. .',\n",
       "  'Revati. (',\n",
       "  'The laat is used if Abijit is omitted.)',\n",
       "  'NALA.',\n",
       "  'A mollkey chief, a general in Sugrivas army.',\n",
       "  'NALINt.',\n",
       "  'A river.',\n",
       "  'NAMUCHI.',\n",
       "  'A demon slain by lndra.',\n",
       "  'NANDANA.',\n",
       "  'lndras celestial garden.',\n",
       "  'NANDI.',\n",
       "  'Sacred bull, the vehicle of Shiva, symbolising the Sattwa-guna, q.v.',\n",
       "  'NANDIGRAMA.',\n",
       "  'The city from which Bharata ruled in the absence of Rama.',\n",
       "  'NAIIADA.',\n",
       "  'A divine Sage who appeared to Valmiki, see Balakanda.',\n",
       "  'NAUt<A. Hell, a place of tortute where the wicked are sent.',\n",
       "  'Manu enlllllrel rwenry hells.'],\n",
       " 'page_sentence_count_spacy': 67}"
      ]
     },
     "execution_count": 29,
     "metadata": {},
     "output_type": "execute_result"
    }
   ],
   "source": [
    "import random\n",
    "num = random.randint(0, 1208)\n",
    "pages_and_text[num]"
   ]
  },
  {
   "cell_type": "code",
   "execution_count": 30,
   "metadata": {},
   "outputs": [
    {
     "data": {
      "text/html": [
       "<div>\n",
       "<style scoped>\n",
       "    .dataframe tbody tr th:only-of-type {\n",
       "        vertical-align: middle;\n",
       "    }\n",
       "\n",
       "    .dataframe tbody tr th {\n",
       "        vertical-align: top;\n",
       "    }\n",
       "\n",
       "    .dataframe thead th {\n",
       "        text-align: right;\n",
       "    }\n",
       "</style>\n",
       "<table border=\"1\" class=\"dataframe\">\n",
       "  <thead>\n",
       "    <tr style=\"text-align: right;\">\n",
       "      <th></th>\n",
       "      <th>count</th>\n",
       "      <th>mean</th>\n",
       "      <th>std</th>\n",
       "      <th>min</th>\n",
       "      <th>25%</th>\n",
       "      <th>50%</th>\n",
       "      <th>75%</th>\n",
       "      <th>max</th>\n",
       "    </tr>\n",
       "  </thead>\n",
       "  <tbody>\n",
       "    <tr>\n",
       "      <th>page_num</th>\n",
       "      <td>1703.0</td>\n",
       "      <td>837.10</td>\n",
       "      <td>493.60</td>\n",
       "      <td>-18.00</td>\n",
       "      <td>409.50</td>\n",
       "      <td>837.0</td>\n",
       "      <td>1264.50</td>\n",
       "      <td>1690.0</td>\n",
       "    </tr>\n",
       "    <tr>\n",
       "      <th>page_char_cnt</th>\n",
       "      <td>1703.0</td>\n",
       "      <td>1981.76</td>\n",
       "      <td>314.63</td>\n",
       "      <td>17.00</td>\n",
       "      <td>1831.50</td>\n",
       "      <td>2002.0</td>\n",
       "      <td>2205.00</td>\n",
       "      <td>2604.0</td>\n",
       "    </tr>\n",
       "    <tr>\n",
       "      <th>page_word_cnt</th>\n",
       "      <td>1703.0</td>\n",
       "      <td>338.49</td>\n",
       "      <td>57.03</td>\n",
       "      <td>4.00</td>\n",
       "      <td>311.00</td>\n",
       "      <td>343.0</td>\n",
       "      <td>377.00</td>\n",
       "      <td>463.0</td>\n",
       "    </tr>\n",
       "    <tr>\n",
       "      <th>page_sentence_cnt</th>\n",
       "      <td>1703.0</td>\n",
       "      <td>16.19</td>\n",
       "      <td>14.42</td>\n",
       "      <td>1.00</td>\n",
       "      <td>9.00</td>\n",
       "      <td>12.0</td>\n",
       "      <td>16.00</td>\n",
       "      <td>102.0</td>\n",
       "    </tr>\n",
       "    <tr>\n",
       "      <th>page_token_cnt</th>\n",
       "      <td>1703.0</td>\n",
       "      <td>495.44</td>\n",
       "      <td>78.66</td>\n",
       "      <td>4.25</td>\n",
       "      <td>457.88</td>\n",
       "      <td>500.5</td>\n",
       "      <td>551.25</td>\n",
       "      <td>651.0</td>\n",
       "    </tr>\n",
       "    <tr>\n",
       "      <th>page_sentence_count_spacy</th>\n",
       "      <td>1703.0</td>\n",
       "      <td>16.47</td>\n",
       "      <td>12.52</td>\n",
       "      <td>1.00</td>\n",
       "      <td>11.00</td>\n",
       "      <td>13.0</td>\n",
       "      <td>17.00</td>\n",
       "      <td>77.0</td>\n",
       "    </tr>\n",
       "  </tbody>\n",
       "</table>\n",
       "</div>"
      ],
      "text/plain": [
       "                            count     mean     std    min      25%     50%  \\\n",
       "page_num                   1703.0   837.10  493.60 -18.00   409.50   837.0   \n",
       "page_char_cnt              1703.0  1981.76  314.63  17.00  1831.50  2002.0   \n",
       "page_word_cnt              1703.0   338.49   57.03   4.00   311.00   343.0   \n",
       "page_sentence_cnt          1703.0    16.19   14.42   1.00     9.00    12.0   \n",
       "page_token_cnt             1703.0   495.44   78.66   4.25   457.88   500.5   \n",
       "page_sentence_count_spacy  1703.0    16.47   12.52   1.00    11.00    13.0   \n",
       "\n",
       "                               75%     max  \n",
       "page_num                   1264.50  1690.0  \n",
       "page_char_cnt              2205.00  2604.0  \n",
       "page_word_cnt               377.00   463.0  \n",
       "page_sentence_cnt            16.00   102.0  \n",
       "page_token_cnt              551.25   651.0  \n",
       "page_sentence_count_spacy    17.00    77.0  "
      ]
     },
     "execution_count": 30,
     "metadata": {},
     "output_type": "execute_result"
    }
   ],
   "source": [
    "#   Sentence splitting with Spacy and manually are almost same (Just slightly different)\n",
    "df2 = pd.DataFrame(pages_and_text)\n",
    "df2.describe().T.round(2)"
   ]
  },
  {
   "cell_type": "code",
   "execution_count": 31,
   "metadata": {},
   "outputs": [
    {
     "data": {
      "text/html": [
       "<div>\n",
       "<style scoped>\n",
       "    .dataframe tbody tr th:only-of-type {\n",
       "        vertical-align: middle;\n",
       "    }\n",
       "\n",
       "    .dataframe tbody tr th {\n",
       "        vertical-align: top;\n",
       "    }\n",
       "\n",
       "    .dataframe thead th {\n",
       "        text-align: right;\n",
       "    }\n",
       "</style>\n",
       "<table border=\"1\" class=\"dataframe\">\n",
       "  <thead>\n",
       "    <tr style=\"text-align: right;\">\n",
       "      <th></th>\n",
       "      <th>page_num</th>\n",
       "      <th>page_char_cnt</th>\n",
       "      <th>page_word_cnt</th>\n",
       "      <th>page_sentence_cnt</th>\n",
       "      <th>page_token_cnt</th>\n",
       "      <th>text</th>\n",
       "      <th>kanda</th>\n",
       "      <th>sentences</th>\n",
       "      <th>page_sentence_count_spacy</th>\n",
       "    </tr>\n",
       "  </thead>\n",
       "  <tbody>\n",
       "    <tr>\n",
       "      <th>1629</th>\n",
       "      <td>1617</td>\n",
       "      <td>2100</td>\n",
       "      <td>336</td>\n",
       "      <td>15</td>\n",
       "      <td>525.00</td>\n",
       "      <td>sun, he issued from his palace barefooted and...</td>\n",
       "      <td></td>\n",
       "      <td>[ sun, he issued from his palace barefooted an...</td>\n",
       "      <td>15</td>\n",
       "    </tr>\n",
       "    <tr>\n",
       "      <th>1630</th>\n",
       "      <td>1618</td>\n",
       "      <td>1939</td>\n",
       "      <td>323</td>\n",
       "      <td>9</td>\n",
       "      <td>484.75</td>\n",
       "      <td>UTTARA KANDA CHAPTER I  llama ascmds to Heaom ...</td>\n",
       "      <td>UTTARA KANDA</td>\n",
       "      <td>[UTTARA KANDA CHAPTER I  llama ascmds to Heaom...</td>\n",
       "      <td>10</td>\n",
       "    </tr>\n",
       "    <tr>\n",
       "      <th>1631</th>\n",
       "      <td>1619</td>\n",
       "      <td>1973</td>\n",
       "      <td>341</td>\n",
       "      <td>10</td>\n",
       "      <td>493.25</td>\n",
       "      <td>in heaven felt a supreme delight, their desir...</td>\n",
       "      <td></td>\n",
       "      <td>[ in heaven felt a supreme delight, their desi...</td>\n",
       "      <td>11</td>\n",
       "    </tr>\n",
       "    <tr>\n",
       "      <th>1632</th>\n",
       "      <td>1620</td>\n",
       "      <td>1317</td>\n",
       "      <td>235</td>\n",
       "      <td>11</td>\n",
       "      <td>329.25</td>\n",
       "      <td>UTTARA KANDA The Lord Vishnu returned to Svarg...</td>\n",
       "      <td>UTTARA KANDA</td>\n",
       "      <td>[UTTARA KANDA The Lord Vishnu returned to Svar...</td>\n",
       "      <td>10</td>\n",
       "    </tr>\n",
       "    <tr>\n",
       "      <th>1633</th>\n",
       "      <td>1621</td>\n",
       "      <td>1626</td>\n",
       "      <td>265</td>\n",
       "      <td>56</td>\n",
       "      <td>406.50</td>\n",
       "      <td>GLOSSARY (For Flowers, Trees and Weapons, see ...</td>\n",
       "      <td></td>\n",
       "      <td>[GLOSSARY (For Flowers, Trees and Weapons, see...</td>\n",
       "      <td>48</td>\n",
       "    </tr>\n",
       "    <tr>\n",
       "      <th>1634</th>\n",
       "      <td>1622</td>\n",
       "      <td>2070</td>\n",
       "      <td>361</td>\n",
       "      <td>70</td>\n",
       "      <td>517.50</td>\n",
       "      <td>GLOSSARY AoNutUNDA. A pit or hole where the sa...</td>\n",
       "      <td></td>\n",
       "      <td>[GLOSSARY AoNutUNDA., A pit or hole where the ...</td>\n",
       "      <td>67</td>\n",
       "    </tr>\n",
       "    <tr>\n",
       "      <th>1635</th>\n",
       "      <td>1623</td>\n",
       "      <td>1965</td>\n",
       "      <td>337</td>\n",
       "      <td>69</td>\n",
       "      <td>491.25</td>\n",
       "      <td>GLOSSARY ANDHAKA. A de-the son of the Sage Kas...</td>\n",
       "      <td></td>\n",
       "      <td>[GLOSSARY ANDHAKA., A de-the son of the Sage K...</td>\n",
       "      <td>60</td>\n",
       "    </tr>\n",
       "    <tr>\n",
       "      <th>1636</th>\n",
       "      <td>1624</td>\n",
       "      <td>2001</td>\n",
       "      <td>328</td>\n",
       "      <td>64</td>\n",
       "      <td>500.25</td>\n",
       "      <td>GLOSSARY ABA. A monkey leader. Aassw~MAN. A ti...</td>\n",
       "      <td></td>\n",
       "      <td>[GLOSSARY ABA., A monkey leader., Aassw~MAN., ...</td>\n",
       "      <td>61</td>\n",
       "    </tr>\n",
       "    <tr>\n",
       "      <th>1637</th>\n",
       "      <td>1625</td>\n",
       "      <td>2123</td>\n",
       "      <td>359</td>\n",
       "      <td>58</td>\n",
       "      <td>530.75</td>\n",
       "      <td>GLOSSARY AsHvAGBlVA. The son of Kashyapa. AsHv...</td>\n",
       "      <td></td>\n",
       "      <td>[GLOSSARY AsHvAGBlVA., The son of Kashyapa., A...</td>\n",
       "      <td>53</td>\n",
       "    </tr>\n",
       "    <tr>\n",
       "      <th>1638</th>\n",
       "      <td>1626</td>\n",
       "      <td>1820</td>\n",
       "      <td>309</td>\n",
       "      <td>54</td>\n",
       "      <td>455.00</td>\n",
       "      <td>GLOSSARY AYUS. The son of Pururavas and Urvash...</td>\n",
       "      <td></td>\n",
       "      <td>[GLOSSARY AYUS., The son of Pururavas and Urva...</td>\n",
       "      <td>51</td>\n",
       "    </tr>\n",
       "    <tr>\n",
       "      <th>1639</th>\n",
       "      <td>1627</td>\n",
       "      <td>1906</td>\n",
       "      <td>312</td>\n",
       "      <td>65</td>\n",
       "      <td>476.50</td>\n",
       "      <td>GLOSSARY BHAVA. A name of Shiva. BHA VISHYA. O...</td>\n",
       "      <td></td>\n",
       "      <td>[GLOSSARY BHAVA., A name of Shiva., BHA VISHYA...</td>\n",
       "      <td>62</td>\n",
       "    </tr>\n",
       "  </tbody>\n",
       "</table>\n",
       "</div>"
      ],
      "text/plain": [
       "      page_num  page_char_cnt  page_word_cnt  page_sentence_cnt  \\\n",
       "1629      1617           2100            336                 15   \n",
       "1630      1618           1939            323                  9   \n",
       "1631      1619           1973            341                 10   \n",
       "1632      1620           1317            235                 11   \n",
       "1633      1621           1626            265                 56   \n",
       "1634      1622           2070            361                 70   \n",
       "1635      1623           1965            337                 69   \n",
       "1636      1624           2001            328                 64   \n",
       "1637      1625           2123            359                 58   \n",
       "1638      1626           1820            309                 54   \n",
       "1639      1627           1906            312                 65   \n",
       "\n",
       "      page_token_cnt                                               text  \\\n",
       "1629          525.00   sun, he issued from his palace barefooted and...   \n",
       "1630          484.75  UTTARA KANDA CHAPTER I  llama ascmds to Heaom ...   \n",
       "1631          493.25   in heaven felt a supreme delight, their desir...   \n",
       "1632          329.25  UTTARA KANDA The Lord Vishnu returned to Svarg...   \n",
       "1633          406.50  GLOSSARY (For Flowers, Trees and Weapons, see ...   \n",
       "1634          517.50  GLOSSARY AoNutUNDA. A pit or hole where the sa...   \n",
       "1635          491.25  GLOSSARY ANDHAKA. A de-the son of the Sage Kas...   \n",
       "1636          500.25  GLOSSARY ABA. A monkey leader. Aassw~MAN. A ti...   \n",
       "1637          530.75  GLOSSARY AsHvAGBlVA. The son of Kashyapa. AsHv...   \n",
       "1638          455.00  GLOSSARY AYUS. The son of Pururavas and Urvash...   \n",
       "1639          476.50  GLOSSARY BHAVA. A name of Shiva. BHA VISHYA. O...   \n",
       "\n",
       "             kanda                                          sentences  \\\n",
       "1629                [ sun, he issued from his palace barefooted an...   \n",
       "1630  UTTARA KANDA  [UTTARA KANDA CHAPTER I  llama ascmds to Heaom...   \n",
       "1631                [ in heaven felt a supreme delight, their desi...   \n",
       "1632  UTTARA KANDA  [UTTARA KANDA The Lord Vishnu returned to Svar...   \n",
       "1633                [GLOSSARY (For Flowers, Trees and Weapons, see...   \n",
       "1634                [GLOSSARY AoNutUNDA., A pit or hole where the ...   \n",
       "1635                [GLOSSARY ANDHAKA., A de-the son of the Sage K...   \n",
       "1636                [GLOSSARY ABA., A monkey leader., Aassw~MAN., ...   \n",
       "1637                [GLOSSARY AsHvAGBlVA., The son of Kashyapa., A...   \n",
       "1638                [GLOSSARY AYUS., The son of Pururavas and Urva...   \n",
       "1639                [GLOSSARY BHAVA., A name of Shiva., BHA VISHYA...   \n",
       "\n",
       "      page_sentence_count_spacy  \n",
       "1629                         15  \n",
       "1630                         10  \n",
       "1631                         11  \n",
       "1632                         10  \n",
       "1633                         48  \n",
       "1634                         67  \n",
       "1635                         60  \n",
       "1636                         61  \n",
       "1637                         53  \n",
       "1638                         51  \n",
       "1639                         62  "
      ]
     },
     "execution_count": 31,
     "metadata": {},
     "output_type": "execute_result"
    }
   ],
   "source": [
    "df2.iloc[1629:1640]"
   ]
  },
  {
   "cell_type": "markdown",
   "metadata": {},
   "source": [
    "# Perform Chunking"
   ]
  },
  {
   "cell_type": "code",
   "execution_count": 32,
   "metadata": {},
   "outputs": [],
   "source": [
    "num_sentences_chunk_size = 10\n",
    "\n",
    "def split_sentences(input_list: list[str], slice_size: int=num_sentences_chunk_size) -> list[list[str]]:\n",
    "    return [input_list[i:i+slice_size] for i in range(0, len(input_list), slice_size)]"
   ]
  },
  {
   "cell_type": "code",
   "execution_count": 33,
   "metadata": {},
   "outputs": [
    {
     "name": "stderr",
     "output_type": "stream",
     "text": [
      "100%|██████████| 1703/1703 [00:00<00:00, 218037.23it/s]\n"
     ]
    }
   ],
   "source": [
    "for item in tqdm(pages_and_text):\n",
    "    item['sentence_chunks'] = split_sentences(input_list=item['sentences'], slice_size=num_sentences_chunk_size)\n",
    "    item['num_chunks'] = len(item['sentence_chunks'])"
   ]
  },
  {
   "cell_type": "code",
   "execution_count": 34,
   "metadata": {},
   "outputs": [
    {
     "data": {
      "text/plain": [
       "[{'page_num': 1163,\n",
       "  'page_char_cnt': 2287,\n",
       "  'page_word_cnt': 389,\n",
       "  'page_sentence_cnt': 10,\n",
       "  'page_token_cnt': 571.75,\n",
       "  'text': 'YUDDHA KANDA showered rocks, stones and trees of every kind on the head of Kumbhakarna but that mighty one split and evaded that rain of trees. And he hurled himself upon that great army of monkeys btandisbing his sbarp pick and, as he rushed forward Hanuman placed himself in the way armed with the peak of a mountain, and, in futy sttuck Kumbhakama a violent blow, who, in his appalling cotpulence, appeated like a hill! Then he whose limbs were dripping with fat and streaming with blood, stumbled under the shock and the titan hurled his spear, which was as bright as lightning and like a mountain spouting fotth flames, striking Maruti between the arms, as Guha formerly struck the Krauncha Mountain with his formidable lance. His bteast pierced by that spesr, beside himself, vomiting blood, Hanuman, in fury, let fotth a terrible cry in the midst of the battle, like the roar of a thundercloud at the end of the World Period, and a great cheer atOSe from the ranks of the titans as they beheld his plight, whilst the monkeys, distraught and terrified, lied from the field. At that instant, summoning up his courage, the valiant Nila dischatged a crag against that crafty titan, who, seeing it approaching, struck it with his fist and, on the impaet, that rock broke and fell on the esrth emitting spatks of fire. Then Risbabba, Sharabba, Nila, Gavaksba and Gandamadhana, those five tigers atnong the monkeys, hurled themselves on Kumbhakama and, in the struggle, showered him with blows from stones, trees, the palms of their bands, feet and fists, attacking that giant on every side. Kumbhakama, however, scarcely felt those blows and, unheeding, seized the impetuous Risbabha in his two arms. Crushed in this embrace, that bull atnong the monkeys fell to the ground, his mouth illed with blood. Thereafter, in the fight, that enemy of Indra struck Sharabha with his fist, Nila with his knee and Gavaksha with the palm of his hand. Dazed by the blows they had received, terrified, covered with blood, they fell on the earth like Kimshuka Treea that have been uprooted. Those powerful lesders of the monkeys being overcome, then:st hurled themselves in thousands OD Kumbhalrama and, llinging themselves upon him and climbing about him as if he were a rock, those hulls atnong the ',\n",
       "  'kanda': 'YUDDHA KANDA',\n",
       "  'sentences': ['YUDDHA KANDA showered rocks, stones and trees of every kind on the head of Kumbhakarna but that mighty one split and evaded that rain of trees.',\n",
       "   'And he hurled himself upon that great army of monkeys btandisbing his sbarp pick and, as he rushed forward Hanuman placed himself in the way armed with the peak of a mountain, and, in futy sttuck Kumbhakama a violent blow, who, in his appalling cotpulence, appeated like a hill!',\n",
       "   'Then he whose limbs were dripping with fat and streaming with blood, stumbled under the shock and the titan hurled his spear, which was as bright as lightning and like a mountain spouting fotth flames, striking Maruti between the arms, as Guha formerly struck the Krauncha Mountain with his formidable lance.',\n",
       "   'His bteast pierced by that spesr, beside himself, vomiting blood, Hanuman, in fury, let fotth a terrible cry in the midst of the battle, like the roar of a thundercloud at the end of the World Period, and a great cheer atOSe from the ranks of the titans as they beheld his plight, whilst the monkeys, distraught and terrified, lied from the field.',\n",
       "   'At that instant, summoning up his courage, the valiant Nila dischatged a crag against that crafty titan, who, seeing it approaching, struck it with his fist and, on the impaet, that rock broke and fell on the esrth emitting spatks of fire.',\n",
       "   'Then Risbabba, Sharabba, Nila, Gavaksba and Gandamadhana, those five tigers atnong the monkeys, hurled themselves on Kumbhakama and, in the struggle, showered him with blows from stones, trees, the palms of their bands, feet and fists, attacking that giant on every side.',\n",
       "   'Kumbhakama, however, scarcely felt those blows and, unheeding, seized the impetuous Risbabha in his two arms.',\n",
       "   'Crushed in this embrace, that bull atnong the monkeys fell to the ground, his mouth illed with blood.',\n",
       "   'Thereafter, in the fight, that enemy of Indra struck Sharabha with his fist, Nila with his knee and Gavaksha with the palm of his hand.',\n",
       "   'Dazed by the blows they had received, terrified, covered with blood, they fell on the earth like Kimshuka Treea that have been uprooted.',\n",
       "   'Those powerful lesders of the monkeys being overcome, then:st hurled themselves in thousands OD Kumbhalrama and, llinging themselves upon him and climbing about him as if he were a rock, those hulls atnong the'],\n",
       "  'page_sentence_count_spacy': 11,\n",
       "  'sentence_chunks': [['YUDDHA KANDA showered rocks, stones and trees of every kind on the head of Kumbhakarna but that mighty one split and evaded that rain of trees.',\n",
       "    'And he hurled himself upon that great army of monkeys btandisbing his sbarp pick and, as he rushed forward Hanuman placed himself in the way armed with the peak of a mountain, and, in futy sttuck Kumbhakama a violent blow, who, in his appalling cotpulence, appeated like a hill!',\n",
       "    'Then he whose limbs were dripping with fat and streaming with blood, stumbled under the shock and the titan hurled his spear, which was as bright as lightning and like a mountain spouting fotth flames, striking Maruti between the arms, as Guha formerly struck the Krauncha Mountain with his formidable lance.',\n",
       "    'His bteast pierced by that spesr, beside himself, vomiting blood, Hanuman, in fury, let fotth a terrible cry in the midst of the battle, like the roar of a thundercloud at the end of the World Period, and a great cheer atOSe from the ranks of the titans as they beheld his plight, whilst the monkeys, distraught and terrified, lied from the field.',\n",
       "    'At that instant, summoning up his courage, the valiant Nila dischatged a crag against that crafty titan, who, seeing it approaching, struck it with his fist and, on the impaet, that rock broke and fell on the esrth emitting spatks of fire.',\n",
       "    'Then Risbabba, Sharabba, Nila, Gavaksba and Gandamadhana, those five tigers atnong the monkeys, hurled themselves on Kumbhakama and, in the struggle, showered him with blows from stones, trees, the palms of their bands, feet and fists, attacking that giant on every side.',\n",
       "    'Kumbhakama, however, scarcely felt those blows and, unheeding, seized the impetuous Risbabha in his two arms.',\n",
       "    'Crushed in this embrace, that bull atnong the monkeys fell to the ground, his mouth illed with blood.',\n",
       "    'Thereafter, in the fight, that enemy of Indra struck Sharabha with his fist, Nila with his knee and Gavaksha with the palm of his hand.',\n",
       "    'Dazed by the blows they had received, terrified, covered with blood, they fell on the earth like Kimshuka Treea that have been uprooted.'],\n",
       "   ['Those powerful lesders of the monkeys being overcome, then:st hurled themselves in thousands OD Kumbhalrama and, llinging themselves upon him and climbing about him as if he were a rock, those hulls atnong the']],\n",
       "  'num_chunks': 2}]"
      ]
     },
     "execution_count": 34,
     "metadata": {},
     "output_type": "execute_result"
    }
   ],
   "source": [
    "random.sample(pages_and_text, k=1)"
   ]
  },
  {
   "cell_type": "code",
   "execution_count": 35,
   "metadata": {},
   "outputs": [
    {
     "data": {
      "text/html": [
       "<div>\n",
       "<style scoped>\n",
       "    .dataframe tbody tr th:only-of-type {\n",
       "        vertical-align: middle;\n",
       "    }\n",
       "\n",
       "    .dataframe tbody tr th {\n",
       "        vertical-align: top;\n",
       "    }\n",
       "\n",
       "    .dataframe thead th {\n",
       "        text-align: right;\n",
       "    }\n",
       "</style>\n",
       "<table border=\"1\" class=\"dataframe\">\n",
       "  <thead>\n",
       "    <tr style=\"text-align: right;\">\n",
       "      <th></th>\n",
       "      <th>count</th>\n",
       "      <th>mean</th>\n",
       "      <th>std</th>\n",
       "      <th>min</th>\n",
       "      <th>25%</th>\n",
       "      <th>50%</th>\n",
       "      <th>75%</th>\n",
       "      <th>max</th>\n",
       "    </tr>\n",
       "  </thead>\n",
       "  <tbody>\n",
       "    <tr>\n",
       "      <th>page_num</th>\n",
       "      <td>1703.0</td>\n",
       "      <td>837.10</td>\n",
       "      <td>493.60</td>\n",
       "      <td>-18.00</td>\n",
       "      <td>409.50</td>\n",
       "      <td>837.0</td>\n",
       "      <td>1264.50</td>\n",
       "      <td>1690.0</td>\n",
       "    </tr>\n",
       "    <tr>\n",
       "      <th>page_char_cnt</th>\n",
       "      <td>1703.0</td>\n",
       "      <td>1981.76</td>\n",
       "      <td>314.63</td>\n",
       "      <td>17.00</td>\n",
       "      <td>1831.50</td>\n",
       "      <td>2002.0</td>\n",
       "      <td>2205.00</td>\n",
       "      <td>2604.0</td>\n",
       "    </tr>\n",
       "    <tr>\n",
       "      <th>page_word_cnt</th>\n",
       "      <td>1703.0</td>\n",
       "      <td>338.49</td>\n",
       "      <td>57.03</td>\n",
       "      <td>4.00</td>\n",
       "      <td>311.00</td>\n",
       "      <td>343.0</td>\n",
       "      <td>377.00</td>\n",
       "      <td>463.0</td>\n",
       "    </tr>\n",
       "    <tr>\n",
       "      <th>page_sentence_cnt</th>\n",
       "      <td>1703.0</td>\n",
       "      <td>16.19</td>\n",
       "      <td>14.42</td>\n",
       "      <td>1.00</td>\n",
       "      <td>9.00</td>\n",
       "      <td>12.0</td>\n",
       "      <td>16.00</td>\n",
       "      <td>102.0</td>\n",
       "    </tr>\n",
       "    <tr>\n",
       "      <th>page_token_cnt</th>\n",
       "      <td>1703.0</td>\n",
       "      <td>495.44</td>\n",
       "      <td>78.66</td>\n",
       "      <td>4.25</td>\n",
       "      <td>457.88</td>\n",
       "      <td>500.5</td>\n",
       "      <td>551.25</td>\n",
       "      <td>651.0</td>\n",
       "    </tr>\n",
       "    <tr>\n",
       "      <th>page_sentence_count_spacy</th>\n",
       "      <td>1703.0</td>\n",
       "      <td>16.47</td>\n",
       "      <td>12.52</td>\n",
       "      <td>1.00</td>\n",
       "      <td>11.00</td>\n",
       "      <td>13.0</td>\n",
       "      <td>17.00</td>\n",
       "      <td>77.0</td>\n",
       "    </tr>\n",
       "    <tr>\n",
       "      <th>num_chunks</th>\n",
       "      <td>1703.0</td>\n",
       "      <td>2.12</td>\n",
       "      <td>1.28</td>\n",
       "      <td>1.00</td>\n",
       "      <td>2.00</td>\n",
       "      <td>2.0</td>\n",
       "      <td>2.00</td>\n",
       "      <td>8.0</td>\n",
       "    </tr>\n",
       "  </tbody>\n",
       "</table>\n",
       "</div>"
      ],
      "text/plain": [
       "                            count     mean     std    min      25%     50%  \\\n",
       "page_num                   1703.0   837.10  493.60 -18.00   409.50   837.0   \n",
       "page_char_cnt              1703.0  1981.76  314.63  17.00  1831.50  2002.0   \n",
       "page_word_cnt              1703.0   338.49   57.03   4.00   311.00   343.0   \n",
       "page_sentence_cnt          1703.0    16.19   14.42   1.00     9.00    12.0   \n",
       "page_token_cnt             1703.0   495.44   78.66   4.25   457.88   500.5   \n",
       "page_sentence_count_spacy  1703.0    16.47   12.52   1.00    11.00    13.0   \n",
       "num_chunks                 1703.0     2.12    1.28   1.00     2.00     2.0   \n",
       "\n",
       "                               75%     max  \n",
       "page_num                   1264.50  1690.0  \n",
       "page_char_cnt              2205.00  2604.0  \n",
       "page_word_cnt               377.00   463.0  \n",
       "page_sentence_cnt            16.00   102.0  \n",
       "page_token_cnt              551.25   651.0  \n",
       "page_sentence_count_spacy    17.00    77.0  \n",
       "num_chunks                    2.00     8.0  "
      ]
     },
     "execution_count": 35,
     "metadata": {},
     "output_type": "execute_result"
    }
   ],
   "source": [
    "df3 = pd.DataFrame(pages_and_text)\n",
    "df3.describe().T.round(2)"
   ]
  },
  {
   "cell_type": "markdown",
   "metadata": {},
   "source": [
    "## Splitting a chunk into it's own item"
   ]
  },
  {
   "cell_type": "code",
   "execution_count": 36,
   "metadata": {},
   "outputs": [
    {
     "name": "stderr",
     "output_type": "stream",
     "text": [
      "100%|██████████| 1703/1703 [00:00<00:00, 7931.50it/s]\n"
     ]
    },
    {
     "data": {
      "text/plain": [
       "3574"
      ]
     },
     "execution_count": 36,
     "metadata": {},
     "output_type": "execute_result"
    }
   ],
   "source": [
    "import re\n",
    "\n",
    "#   'pages_and_text' is the dictionary corresponding to the dataframe.....\n",
    "\n",
    "pages_and_chunks = []\n",
    "for item in tqdm(pages_and_text):\n",
    "    \n",
    "    if item['page_num'] >= -1:       #   Unwanted Pages removed\n",
    "        for sentence_chunk in item['sentence_chunks']:\n",
    "\n",
    "            # 'item['sentence_chunk']' is the list of lists that we created before: Contains the chunks of sentences\n",
    "            chunk_dict = {}\n",
    "            chunk_dict['page_num'] = item['page_num']\n",
    "\n",
    "            #   Join the sentences together into a paragraph-like structure aka join the list of sentences into one paragraph\n",
    "            joined_sentence_chunk = \"\".join(sentence_chunk).replace(\"  \", \" \").strip()\n",
    "            joined_sentence_chunk = re.sub(r'\\.([A-Z])', r'. \\1', joined_sentence_chunk)\n",
    "\n",
    "            chunk_dict['sentence_chunk'] = joined_sentence_chunk\n",
    "\n",
    "            #   Get some stats on our chunks\n",
    "            chunk_dict['chunk_char_count'] = len(joined_sentence_chunk)\n",
    "            chunk_dict['chunk_word_count'] = len([word for word in joined_sentence_chunk.split(\" \")])\n",
    "            chunk_dict['chunk_token_count'] = len(joined_sentence_chunk)/4\n",
    "\n",
    "            pages_and_chunks.append(chunk_dict)\n",
    "\n",
    "\n",
    "len(pages_and_chunks)"
   ]
  },
  {
   "cell_type": "code",
   "execution_count": 37,
   "metadata": {},
   "outputs": [
    {
     "data": {
      "text/html": [
       "<div>\n",
       "<style scoped>\n",
       "    .dataframe tbody tr th:only-of-type {\n",
       "        vertical-align: middle;\n",
       "    }\n",
       "\n",
       "    .dataframe tbody tr th {\n",
       "        vertical-align: top;\n",
       "    }\n",
       "\n",
       "    .dataframe thead th {\n",
       "        text-align: right;\n",
       "    }\n",
       "</style>\n",
       "<table border=\"1\" class=\"dataframe\">\n",
       "  <thead>\n",
       "    <tr style=\"text-align: right;\">\n",
       "      <th></th>\n",
       "      <th>count</th>\n",
       "      <th>mean</th>\n",
       "      <th>std</th>\n",
       "      <th>min</th>\n",
       "      <th>25%</th>\n",
       "      <th>50%</th>\n",
       "      <th>75%</th>\n",
       "      <th>max</th>\n",
       "    </tr>\n",
       "  </thead>\n",
       "  <tbody>\n",
       "    <tr>\n",
       "      <th>page_num</th>\n",
       "      <td>3574.0</td>\n",
       "      <td>882.26</td>\n",
       "      <td>521.10</td>\n",
       "      <td>-1.0</td>\n",
       "      <td>415.00</td>\n",
       "      <td>907.5</td>\n",
       "      <td>1355.75</td>\n",
       "      <td>1690.0</td>\n",
       "    </tr>\n",
       "    <tr>\n",
       "      <th>chunk_char_count</th>\n",
       "      <td>3574.0</td>\n",
       "      <td>934.21</td>\n",
       "      <td>657.75</td>\n",
       "      <td>0.0</td>\n",
       "      <td>313.00</td>\n",
       "      <td>818.0</td>\n",
       "      <td>1495.75</td>\n",
       "      <td>2418.0</td>\n",
       "    </tr>\n",
       "    <tr>\n",
       "      <th>chunk_word_count</th>\n",
       "      <td>3574.0</td>\n",
       "      <td>158.86</td>\n",
       "      <td>112.01</td>\n",
       "      <td>1.0</td>\n",
       "      <td>53.00</td>\n",
       "      <td>141.0</td>\n",
       "      <td>256.00</td>\n",
       "      <td>420.0</td>\n",
       "    </tr>\n",
       "    <tr>\n",
       "      <th>chunk_token_count</th>\n",
       "      <td>3574.0</td>\n",
       "      <td>233.55</td>\n",
       "      <td>164.44</td>\n",
       "      <td>0.0</td>\n",
       "      <td>78.25</td>\n",
       "      <td>204.5</td>\n",
       "      <td>373.94</td>\n",
       "      <td>604.5</td>\n",
       "    </tr>\n",
       "  </tbody>\n",
       "</table>\n",
       "</div>"
      ],
      "text/plain": [
       "                    count    mean     std  min     25%    50%      75%     max\n",
       "page_num           3574.0  882.26  521.10 -1.0  415.00  907.5  1355.75  1690.0\n",
       "chunk_char_count   3574.0  934.21  657.75  0.0  313.00  818.0  1495.75  2418.0\n",
       "chunk_word_count   3574.0  158.86  112.01  1.0   53.00  141.0   256.00   420.0\n",
       "chunk_token_count  3574.0  233.55  164.44  0.0   78.25  204.5   373.94   604.5"
      ]
     },
     "execution_count": 37,
     "metadata": {},
     "output_type": "execute_result"
    }
   ],
   "source": [
    "df4 = pd.DataFrame(pages_and_chunks)\n",
    "df4.describe().T.round(2)"
   ]
  },
  {
   "cell_type": "markdown",
   "metadata": {},
   "source": [
    "## Filter chunks of text for short chunks\n",
    "\n",
    "These chunks may not contain much useful information"
   ]
  },
  {
   "cell_type": "code",
   "execution_count": 38,
   "metadata": {},
   "outputs": [
    {
     "name": "stdout",
     "output_type": "stream",
     "text": [
      "Chunk token count: 28.75 | Text: Chief of the gods, preserve me and thyaelf fi:om Gautama.\"Indra laughed and answered :  Thou of beautiful waist, !J\n",
      "Chunk token count: 5.25 | Text: BOOK II AYODHYA KANDA\n",
      "Chunk token count: 14.0 | Text: KsHIJpA, A plant or shrub with short branches and roots.\n",
      "Chunk token count: 14.75 | Text: The monkeys, however, their faces shining like full-blown »\n",
      "Chunk token count: 17.75 | Text: GLOSSARY w X y YAMIYA. The Weapon of\" Dead>. YoGANDHARA. The United.z ~\n"
     ]
    }
   ],
   "source": [
    "min_token_length = 30\n",
    "\n",
    "for row in df4[df4['chunk_token_count'] <= min_token_length].sample(5).iterrows():\n",
    "    print(f\"Chunk token count: {row[1]['chunk_token_count']} | Text: {row[1]['sentence_chunk']}\")"
   ]
  },
  {
   "cell_type": "code",
   "execution_count": 39,
   "metadata": {},
   "outputs": [
    {
     "name": "stdout",
     "output_type": "stream",
     "text": [
      "Chunk token count: 298.75 | Text: AYODHYA KANDA have been obedient to their fathers will. I follow no new law, nor one conuary to the traditions of the royal dynasty, but tread the patb of my illustrious ancestors. I am accomplishing nought whieb has not already been accomplished in this world. He who acts in accordance witb his fathers commands does not fall from virtue.\"Having spoken tbus to his motber, Shri Rama addressed Lakshmana, saying :\" Lakshmana, I am acquainted witb thine immeasurable love for me, tby valour and tby prowess; none can witbstand tbcc. Lakshmana, my motber endowed witb every good quality is now subject to misery and grief through ignorance of dharma and laek of resignation. Brotber, dharma is the highest good on earth, Trutb and dharma arc one. My fathers command is founded on dharma, hence it is superior to my mothers ruling. Hero, it is unwortby in one seeking tbe supreme fruit of dharma, not to fullil the promise made to his fatber, motber or a learned brahmin, I cannot, tberefore, disregsrd my fatbers command. Hero, inspired by my fatber, Mother Kaikeyi has urged me to tbis course, thercforc, Lakshmana, relinquish tbe idea of bloodshed and embracing tbe state of virtue, follow me.\"\n",
      "Chunk token count: 548.0 | Text: all beings were seized with terrOr, the earth shook, the moun-tains, frequented by lions and tigers, trembled, the trees swayed to and fro, the Ocean, that Lord of Rivers was agitated and flocks of crows, braying like donkeys, described circles in the sky on all sides. Beholding Rama wrought up with extreme ire and those fearful portents, all beings were filled with fear and Ravena too felt dismayed. The Gods in their chariots, the Gandharvas, the great Serpents, the Rishis, the Danavas, Daityas and winged creatures of the air gazed down on that conflict between those two warriors, who fought with every kind of dreadful weapon, so that it appeared like the dissolution of the worlds. Suras and Asuras who had come to witness the struggle, with their eyes followed that formidable duel, uttering words of sympathy and encouragement and the assembled Asuras cried out to Dasha-griva Victory to Thee ! and the Suras addressing Rams reiterated Triumph !Triumph ! At that instant the wicked Ravena, in his fury against Rama whom he wished to slay, took hold of an immense weapon that was as hard as diamond, deafening, the destroyer of its foe, furnished with spikes like unto mountain peaks, dreadful to conceive or behold, and Ravana lifted up that lance with its smoke-wreathed flaming point, like unto the fires at the time of the final dissolution of the worlds, that was greatly to be feared, irresistible and which death itself could not endure, the terror of all beings, whom it was able to crush to fragments. At the height of anger, he raised his Strong arm and, surrounded by his brave ttoops, brandishing his weapon, that colossus, his eyes red with fury, emitted a piercing cry in order to encourage his forces, and earth, sky and the four quaners trembled at that fearful shout of the King of the Titans. With his stout arm, taking hold of that weapon he emitted a great cry and addressed his opponent insolently in these words :-\" This spear, as strong as a diamond, Rama, that I wield in my wrath, through my prowess will shortly rob thee and thy brother of your lives !Thou shalt share the fate of my brave soldiers whom thou didst massacre in the forefront of the battle.\n",
      "Chunk token count: 143.25 | Text: It is regarded as one of tbe five great sacrifices called\" Dcva-yajnas , . IKSRNAKU. Son of Manu, founder of the Solar Race of Kings wbo reigned in Ayodhya. ILVALA. A demon subdued by the Sage Agastya. INDIA. The King of the Goda, who is known under many other names, such as : Mahendra, or Great Indra, Sbatakratu, or\"He of a hundred sacrifices\", Purandara, u Destroyer of Citiesn, Vajrapani, II Of the Thunderbolt hand n, II Lord of Sachi ,, Magbavan,\"Possessor of Wealth\". INDRALOJ<A. The Abode of Indra or the Celestial Realm. IIAVAn. Mother of tbe elephant Airavata. ]\n",
      "Chunk token count: 33.5 | Text: The sons o£ Shri Raghu wereknownbythenames ofPravriddha,Purushadab,Kalmasha-pada and Soudasa. The son of Kalmashapada was Shanlthana !\n",
      "Chunk token count: 115.75 | Text: This chariot of war, shining like a flame, which is overturned and broken, to whom does it belong?These arrows too, a hundred fingers in length, of terrifying aspect, their golden tips blunted, lying in a hundred fragments and the two quivers filled with excellent shafts, whose are they?\"See the charioteer lying on the earth, the lash and reins still in his hands, who was his master?Without doubt these footprints are those of a mighty titan, Lakshmana. Behold\n"
     ]
    }
   ],
   "source": [
    "max_token_length = 550\n",
    "\n",
    "for row in df4[(df4['chunk_token_count'] > min_token_length) & (df4['chunk_token_count'] < max_token_length)].sample(5).iterrows():\n",
    "    print(f\"Chunk token count: {row[1]['chunk_token_count']} | Text: {row[1]['sentence_chunk']}\")"
   ]
  },
  {
   "cell_type": "markdown",
   "metadata": {},
   "source": [
    "## Embedding our text chunks"
   ]
  },
  {
   "cell_type": "code",
   "execution_count": 9,
   "metadata": {},
   "outputs": [
    {
     "name": "stdout",
     "output_type": "stream",
     "text": [
      "WARNING:tensorflow:From C:\\Users\\91629\\AppData\\Roaming\\Python\\Python312\\site-packages\\tf_keras\\src\\losses.py:2976: The name tf.losses.sparse_softmax_cross_entropy is deprecated. Please use tf.compat.v1.losses.sparse_softmax_cross_entropy instead.\n",
      "\n"
     ]
    }
   ],
   "source": [
    "from sentence_transformers import SentenceTransformer"
   ]
  },
  {
   "cell_type": "code",
   "execution_count": 10,
   "metadata": {},
   "outputs": [],
   "source": [
    "embedding_model = SentenceTransformer(\"Alibaba-NLP/gte-large-en-v1.5\", trust_remote_code=True)"
   ]
  },
  {
   "cell_type": "code",
   "execution_count": 48,
   "metadata": {},
   "outputs": [
    {
     "name": "stderr",
     "output_type": "stream",
     "text": [
      "100%|██████████| 3574/3574 [00:00<00:00, 3575964.34it/s]\n"
     ]
    },
    {
     "data": {
      "text/plain": [
       "3391"
      ]
     },
     "execution_count": 48,
     "metadata": {},
     "output_type": "execute_result"
    }
   ],
   "source": [
    "pages_and_chunks_modified = []\n",
    "for item in tqdm(pages_and_chunks):\n",
    "    if item['chunk_token_count'] > 30:\n",
    "        pages_and_chunks_modified.append(item)\n",
    "\n",
    "len(pages_and_chunks_modified)"
   ]
  },
  {
   "cell_type": "code",
   "execution_count": 49,
   "metadata": {},
   "outputs": [
    {
     "name": "stderr",
     "output_type": "stream",
     "text": [
      "100%|██████████| 3391/3391 [3:21:57<00:00,  3.57s/it]  \n"
     ]
    }
   ],
   "source": [
    "#   Will take quite a bit time. So, better store and save these embeddings in a Vector Database\n",
    "#   Took 3.5 hrs to run\n",
    "meow = []\n",
    "for item in tqdm(pages_and_chunks_modified):\n",
    "    embeddings = embedding_model.encode(item['sentence_chunk'])\n",
    "    item['embedding'] = embeddings\n",
    "    meow.append(embeddings)"
   ]
  },
  {
   "cell_type": "code",
   "execution_count": 50,
   "metadata": {},
   "outputs": [
    {
     "data": {
      "text/plain": [
       "(3391, 1024)"
      ]
     },
     "execution_count": 50,
     "metadata": {},
     "output_type": "execute_result"
    }
   ],
   "source": [
    "meow = np.array(meow)\n",
    "meow.shape"
   ]
  },
  {
   "cell_type": "markdown",
   "metadata": {},
   "source": [
    "# Save the embeddings for future use"
   ]
  },
  {
   "cell_type": "code",
   "execution_count": 53,
   "metadata": {},
   "outputs": [],
   "source": [
    "df5 = pd.DataFrame(pages_and_chunks)"
   ]
  },
  {
   "cell_type": "code",
   "execution_count": 56,
   "metadata": {},
   "outputs": [
    {
     "data": {
      "text/html": [
       "<div>\n",
       "<style scoped>\n",
       "    .dataframe tbody tr th:only-of-type {\n",
       "        vertical-align: middle;\n",
       "    }\n",
       "\n",
       "    .dataframe tbody tr th {\n",
       "        vertical-align: top;\n",
       "    }\n",
       "\n",
       "    .dataframe thead th {\n",
       "        text-align: right;\n",
       "    }\n",
       "</style>\n",
       "<table border=\"1\" class=\"dataframe\">\n",
       "  <thead>\n",
       "    <tr style=\"text-align: right;\">\n",
       "      <th></th>\n",
       "      <th>page_num</th>\n",
       "      <th>sentence_chunk</th>\n",
       "      <th>chunk_char_count</th>\n",
       "      <th>chunk_word_count</th>\n",
       "      <th>chunk_token_count</th>\n",
       "      <th>embedding</th>\n",
       "    </tr>\n",
       "  </thead>\n",
       "  <tbody>\n",
       "    <tr>\n",
       "      <th>1254</th>\n",
       "      <td>601</td>\n",
       "      <td>KISHKINDHA KANDA all inflame my desire. I, who...</td>\n",
       "      <td>1103</td>\n",
       "      <td>193</td>\n",
       "      <td>275.75</td>\n",
       "      <td>[0.35453555, 0.31067443, 0.7647348, 0.78929484...</td>\n",
       "    </tr>\n",
       "    <tr>\n",
       "      <th>1255</th>\n",
       "      <td>601</td>\n",
       "      <td>When shall I hear the incomparable voice of Va...</td>\n",
       "      <td>1078</td>\n",
       "      <td>185</td>\n",
       "      <td>269.50</td>\n",
       "      <td>[-0.19307077, 0.30760765, 0.48369014, 0.215577...</td>\n",
       "    </tr>\n",
       "    <tr>\n",
       "      <th>1256</th>\n",
       "      <td>602</td>\n",
       "      <td>RAM A Y AN A F v:A L M I;K I he descend into h...</td>\n",
       "      <td>792</td>\n",
       "      <td>152</td>\n",
       "      <td>198.00</td>\n",
       "      <td>[-0.54592574, -0.3410208, -0.12372417, 0.21413...</td>\n",
       "    </tr>\n",
       "    <tr>\n",
       "      <th>1257</th>\n",
       "      <td>602</td>\n",
       "      <td>Hast thou perchance forgotten the greatness of...</td>\n",
       "      <td>1252</td>\n",
       "      <td>204</td>\n",
       "      <td>313.00</td>\n",
       "      <td>[0.6150873, 0.35031578, 0.16450037, 0.06497544...</td>\n",
       "    </tr>\n",
       "    <tr>\n",
       "      <th>1258</th>\n",
       "      <td>603</td>\n",
       "      <td>KISHKINDHA KANDA CHAPTER SugrifJtl sends Hanum...</td>\n",
       "      <td>1820</td>\n",
       "      <td>301</td>\n",
       "      <td>455.00</td>\n",
       "      <td>[0.3802888, 0.48232132, 0.9606592, -0.0235045,...</td>\n",
       "    </tr>\n",
       "    <tr>\n",
       "      <th>1259</th>\n",
       "      <td>604</td>\n",
       "      <td>with apprehension and caused thy flight, Bull ...</td>\n",
       "      <td>1135</td>\n",
       "      <td>189</td>\n",
       "      <td>283.75</td>\n",
       "      <td>[0.31381765, 0.31953374, 0.90550166, -0.162502...</td>\n",
       "    </tr>\n",
       "  </tbody>\n",
       "</table>\n",
       "</div>"
      ],
      "text/plain": [
       "      page_num                                     sentence_chunk  \\\n",
       "1254       601  KISHKINDHA KANDA all inflame my desire. I, who...   \n",
       "1255       601  When shall I hear the incomparable voice of Va...   \n",
       "1256       602  RAM A Y AN A F v:A L M I;K I he descend into h...   \n",
       "1257       602  Hast thou perchance forgotten the greatness of...   \n",
       "1258       603  KISHKINDHA KANDA CHAPTER SugrifJtl sends Hanum...   \n",
       "1259       604  with apprehension and caused thy flight, Bull ...   \n",
       "\n",
       "      chunk_char_count  chunk_word_count  chunk_token_count  \\\n",
       "1254              1103               193             275.75   \n",
       "1255              1078               185             269.50   \n",
       "1256               792               152             198.00   \n",
       "1257              1252               204             313.00   \n",
       "1258              1820               301             455.00   \n",
       "1259              1135               189             283.75   \n",
       "\n",
       "                                              embedding  \n",
       "1254  [0.35453555, 0.31067443, 0.7647348, 0.78929484...  \n",
       "1255  [-0.19307077, 0.30760765, 0.48369014, 0.215577...  \n",
       "1256  [-0.54592574, -0.3410208, -0.12372417, 0.21413...  \n",
       "1257  [0.6150873, 0.35031578, 0.16450037, 0.06497544...  \n",
       "1258  [0.3802888, 0.48232132, 0.9606592, -0.0235045,...  \n",
       "1259  [0.31381765, 0.31953374, 0.90550166, -0.162502...  "
      ]
     },
     "execution_count": 56,
     "metadata": {},
     "output_type": "execute_result"
    }
   ],
   "source": [
    "df5.iloc[1254:1260]"
   ]
  },
  {
   "cell_type": "code",
   "execution_count": 60,
   "metadata": {},
   "outputs": [
    {
     "name": "stderr",
     "output_type": "stream",
     "text": [
      "100%|██████████| 3391/3391 [00:00<00:00, 849228.86it/s]\n"
     ]
    }
   ],
   "source": [
    "questions = []\n",
    "for item in tqdm(pages_and_chunks_modified):\n",
    "    questions.append(item['sentence_chunk'])"
   ]
  },
  {
   "cell_type": "code",
   "execution_count": 61,
   "metadata": {},
   "outputs": [],
   "source": [
    "batch_size = 128\n",
    "vector_limit = 100000\n",
    "\n",
    "questions = questions[:vector_limit]"
   ]
  },
  {
   "cell_type": "code",
   "execution_count": 62,
   "metadata": {},
   "outputs": [],
   "source": [
    "pro_dict = {} \n",
    "for i in range(meow.shape[0]):\n",
    "    pro_dict[i] = {\n",
    "        'sentence': questions[i],\n",
    "        'embedding': meow[i].tolist()  # convert the tensor to a list if necessary\n",
    "    }"
   ]
  },
  {
   "cell_type": "code",
   "execution_count": 64,
   "metadata": {},
   "outputs": [],
   "source": [
    "lion = pd.DataFrame.from_dict(pro_dict, orient='index')"
   ]
  },
  {
   "cell_type": "code",
   "execution_count": 65,
   "metadata": {},
   "outputs": [],
   "source": [
    "lion.to_csv(\"C:/Users/91629/Desktop/Ramayana Embeddings.csv\")"
   ]
  },
  {
   "cell_type": "markdown",
   "metadata": {},
   "source": [
    "### Saved embeddings in the Vector Database as well for efficient Semantic Search"
   ]
  },
  {
   "cell_type": "code",
   "execution_count": 70,
   "metadata": {},
   "outputs": [],
   "source": [
    "from pinecone.grpc import PineconeGRPC as Pinecone\n",
    "from pinecone import ServerlessSpec, PodSpec"
   ]
  },
  {
   "cell_type": "code",
   "execution_count": 71,
   "metadata": {},
   "outputs": [],
   "source": [
    "pc = Pinecone(api_key='abjskdbsdkbskbskjbsdva')"
   ]
  },
  {
   "cell_type": "code",
   "execution_count": 72,
   "metadata": {},
   "outputs": [],
   "source": [
    "import os\n",
    "use_serverless = True"
   ]
  },
  {
   "cell_type": "code",
   "execution_count": 73,
   "metadata": {},
   "outputs": [],
   "source": [
    "if use_serverless:\n",
    "    spec = ServerlessSpec(cloud='aws', region='us-east-1')\n",
    "else:\n",
    "    spec = PodSpec(environment=environment)"
   ]
  },
  {
   "cell_type": "code",
   "execution_count": 15,
   "metadata": {},
   "outputs": [],
   "source": [
    "index_name = \"ramayana-embeddings\""
   ]
  },
  {
   "cell_type": "code",
   "execution_count": 76,
   "metadata": {},
   "outputs": [],
   "source": [
    "#   Delete the index, if index of the same name already exists\n",
    "if index_name in pc.list_indexes().names():\n",
    "    pc.delete_index(index_name)"
   ]
  },
  {
   "cell_type": "code",
   "execution_count": 78,
   "metadata": {},
   "outputs": [],
   "source": [
    "pc.create_index(\n",
    "        index_name,\n",
    "        dimension=embedding_model.get_sentence_embedding_dimension(),     #   Set the dimension in this way\n",
    "        metric='cosine',\n",
    "        spec=spec\n",
    "    )"
   ]
  },
  {
   "cell_type": "code",
   "execution_count": 16,
   "metadata": {},
   "outputs": [
    {
     "ename": "NameError",
     "evalue": "name 'pc' is not defined",
     "output_type": "error",
     "traceback": [
      "\u001b[1;31m---------------------------------------------------------------------------\u001b[0m",
      "\u001b[1;31mNameError\u001b[0m                                 Traceback (most recent call last)",
      "Cell \u001b[1;32mIn[16], line 2\u001b[0m\n\u001b[0;32m      1\u001b[0m \u001b[38;5;66;03m# connect to index\u001b[39;00m\n\u001b[1;32m----> 2\u001b[0m index \u001b[38;5;241m=\u001b[39m \u001b[43mpc\u001b[49m\u001b[38;5;241m.\u001b[39mIndex(index_name)\n\u001b[0;32m      4\u001b[0m \u001b[38;5;66;03m# view index stats\u001b[39;00m\n\u001b[0;32m      5\u001b[0m index\u001b[38;5;241m.\u001b[39mdescribe_index_stats()\n",
      "\u001b[1;31mNameError\u001b[0m: name 'pc' is not defined"
     ]
    }
   ],
   "source": [
    "# connect to index\n",
    "index = pc.Index(index_name)\n",
    "\n",
    "# view index stats\n",
    "index.describe_index_stats()"
   ]
  },
  {
   "cell_type": "code",
   "execution_count": 80,
   "metadata": {},
   "outputs": [
    {
     "name": "stderr",
     "output_type": "stream",
     "text": [
      "100%|██████████| 27/27 [01:19<00:00,  2.95s/it]\n"
     ]
    }
   ],
   "source": [
    "for i in tqdm(range(0, len(questions), batch_size)):\n",
    "    # find end of batch\n",
    "    i_end = min(i+batch_size, len(questions))\n",
    "    # create IDs batch\n",
    "    ids = [str(x) for x in range(i, i_end)]\n",
    "    # create metadata batch\n",
    "    metadatas = [{'text': text} for text in questions[i:i_end]]\n",
    "    xc = meow[i:i_end]    \n",
    "    \n",
    "    # create records list for upsert\n",
    "    records = zip(ids, xc, metadatas)\n",
    "    \n",
    "    # upsert to Pinecone\n",
    "    index.upsert(vectors=records)"
   ]
  },
  {
   "cell_type": "code",
   "execution_count": 81,
   "metadata": {},
   "outputs": [
    {
     "data": {
      "text/plain": [
       "{'dimension': 1024,\n",
       " 'index_fullness': 0.0,\n",
       " 'namespaces': {'': {'vector_count': 3391}},\n",
       " 'total_vector_count': 3391}"
      ]
     },
     "execution_count": 81,
     "metadata": {},
     "output_type": "execute_result"
    }
   ],
   "source": [
    "# view index stats\n",
    "index.describe_index_stats()"
   ]
  },
  {
   "cell_type": "markdown",
   "metadata": {},
   "source": [
    "#   Fetch the embeddings stored in the local file"
   ]
  },
  {
   "cell_type": "code",
   "execution_count": 66,
   "metadata": {},
   "outputs": [
    {
     "data": {
      "text/html": [
       "<div>\n",
       "<style scoped>\n",
       "    .dataframe tbody tr th:only-of-type {\n",
       "        vertical-align: middle;\n",
       "    }\n",
       "\n",
       "    .dataframe tbody tr th {\n",
       "        vertical-align: top;\n",
       "    }\n",
       "\n",
       "    .dataframe thead th {\n",
       "        text-align: right;\n",
       "    }\n",
       "</style>\n",
       "<table border=\"1\" class=\"dataframe\">\n",
       "  <thead>\n",
       "    <tr style=\"text-align: right;\">\n",
       "      <th></th>\n",
       "      <th>Unnamed: 0</th>\n",
       "      <th>sentence</th>\n",
       "      <th>Embeddings</th>\n",
       "    </tr>\n",
       "  </thead>\n",
       "  <tbody>\n",
       "    <tr>\n",
       "      <th>0</th>\n",
       "      <td>0</td>\n",
       "      <td>CHAPTER I Sltri Narada rta to V almiki tM rtor...</td>\n",
       "      <td>[0.41220077872276306, -0.23101629316806793, 0....</td>\n",
       "    </tr>\n",
       "    <tr>\n",
       "      <th>1</th>\n",
       "      <td>1</td>\n",
       "      <td>Nony hymaa of the IUg.,-la ... -a.ut&lt;d to him....</td>\n",
       "      <td>[-0.8503050804138184, 0.254336416721344, -0.50...</td>\n",
       "    </tr>\n",
       "    <tr>\n",
       "      <th>2</th>\n",
       "      <td>2</td>\n",
       "      <td>proportioned limbs and skin of bluish tint, on...</td>\n",
       "      <td>[0.19522586464881897, 0.6316515803337097, 0.50...</td>\n",
       "    </tr>\n",
       "    <tr>\n",
       "      <th>3</th>\n",
       "      <td>3</td>\n",
       "      <td>Violmu. ·-The Incarnation~ or Dmnc Delcent cal...</td>\n",
       "      <td>[-0.4730081856250763, -0.9195123314857483, 0.7...</td>\n",
       "    </tr>\n",
       "    <tr>\n",
       "      <th>4</th>\n",
       "      <td>4</td>\n",
       "      <td>BALA KANDA The daughter of King Janab, an inca...</td>\n",
       "      <td>[-0.19800657033920288, 0.714275598526001, 1.46...</td>\n",
       "    </tr>\n",
       "  </tbody>\n",
       "</table>\n",
       "</div>"
      ],
      "text/plain": [
       "   Unnamed: 0                                           sentence  \\\n",
       "0           0  CHAPTER I Sltri Narada rta to V almiki tM rtor...   \n",
       "1           1  Nony hymaa of the IUg.,-la ... -a.ut<d to him....   \n",
       "2           2  proportioned limbs and skin of bluish tint, on...   \n",
       "3           3  Violmu. ·-The Incarnation~ or Dmnc Delcent cal...   \n",
       "4           4  BALA KANDA The daughter of King Janab, an inca...   \n",
       "\n",
       "                                          Embeddings  \n",
       "0  [0.41220077872276306, -0.23101629316806793, 0....  \n",
       "1  [-0.8503050804138184, 0.254336416721344, -0.50...  \n",
       "2  [0.19522586464881897, 0.6316515803337097, 0.50...  \n",
       "3  [-0.4730081856250763, -0.9195123314857483, 0.7...  \n",
       "4  [-0.19800657033920288, 0.714275598526001, 1.46...  "
      ]
     },
     "execution_count": 66,
     "metadata": {},
     "output_type": "execute_result"
    }
   ],
   "source": [
    "lioness = pd.read_csv(\"C:/Users/91629/Desktop/Ramayana Embeddings.csv\")\n",
    "lioness['Embeddings'] = lioness['embedding'].apply(lambda e: np.array(eval(e)))\n",
    "lioness.drop('embedding', axis=1, inplace=True)\n",
    "lioness.head()"
   ]
  },
  {
   "cell_type": "code",
   "execution_count": 67,
   "metadata": {},
   "outputs": [
    {
     "data": {
      "text/plain": [
       "(3391, 1024)"
      ]
     },
     "execution_count": 67,
     "metadata": {},
     "output_type": "execute_result"
    }
   ],
   "source": [
    "Meow = []\n",
    "for i in range(lioness.shape[0]):\n",
    "    Meow.append(list(lioness['Embeddings'].iloc[i]))\n",
    "\n",
    "Meow = np.array(Meow)\n",
    "Meow.shape"
   ]
  },
  {
   "cell_type": "code",
   "execution_count": 69,
   "metadata": {},
   "outputs": [
    {
     "data": {
      "text/plain": [
       "numpy.ndarray"
      ]
     },
     "execution_count": 69,
     "metadata": {},
     "output_type": "execute_result"
    }
   ],
   "source": [
    "type(Meow)"
   ]
  },
  {
   "cell_type": "markdown",
   "metadata": {},
   "source": [
    "#   Query the Embeddings from Pinecone"
   ]
  },
  {
   "cell_type": "markdown",
   "metadata": {},
   "source": [
    "#### Write your query here"
   ]
  },
  {
   "cell_type": "code",
   "execution_count": 13,
   "metadata": {},
   "outputs": [],
   "source": [
    "query = \"Who is Dasarath?\""
   ]
  },
  {
   "cell_type": "code",
   "execution_count": 21,
   "metadata": {},
   "outputs": [
    {
     "name": "stdout",
     "output_type": "stream",
     "text": [
      "{'indexes': [{'deletion_protection': 'disabled',\n",
      "              'dimension': 1024,\n",
      "              'host': 'ramayana-embeddings-azjut3w.svc.aped-4627-b74a.pinecone.io',\n",
      "              'metric': 'cosine',\n",
      "              'name': 'ramayana-embeddings',\n",
      "              'spec': {'serverless': {'cloud': 'aws', 'region': 'us-east-1'}},\n",
      "              'status': {'ready': True, 'state': 'Ready'}}]}\n"
     ]
    }
   ],
   "source": [
    "from pinecone import Pinecone\n",
    "\n",
    "# Initialize the Pinecone client with your API key\n",
    "pc = Pinecone(api_key=\"kjvbkjbsvjkvkjabvjkvbv\")\n",
    "\n",
    "# List all indexes to verify connection\n",
    "print(pc.list_indexes())\n",
    "# pinecone.init(api_key=\"fhjbv,jvab,jvbjkvjkvfjkvjfbkvjbfjvbdf jv dbvjb\", region='us-west-2')"
   ]
  },
  {
   "cell_type": "code",
   "execution_count": 22,
   "metadata": {},
   "outputs": [],
   "source": [
    "# Specify your index name\n",
    "index_name = \"ramayana-embeddings\"\n",
    "\n",
    "# Connect to the existing index\n",
    "index = pc.Index(index_name)"
   ]
  },
  {
   "cell_type": "code",
   "execution_count": 23,
   "metadata": {},
   "outputs": [
    {
     "data": {
      "text/plain": [
       "{'matches': [{'id': '821',\n",
       "              'metadata': {'text': 'DASARATHA. King of Koshala, father of Shri '\n",
       "                                   'Rams, Lablunana Bharata and~· DBVAS. The '\n",
       "                                   'Gods or s~ Ooes. Dm. A title given to '\n",
       "                                   'Parvan, Shivss consort. DHANIJDA. A name '\n",
       "                                   'of Kuvera. DHAIIA. W\"lfe of the Sage ~· '\n",
       "                                   'DHARMA. Traditionally or · course of '\n",
       "                                   'conduct, or duty.'},\n",
       "              'score': 0.749836683,\n",
       "              'values': []},\n",
       "             {'id': '3026',\n",
       "              'metadata': {'text': 'DASARATHA. King of Kosbala and father of '\n",
       "                                   'Rama, Lakshmana, Bbarata and Sbatrughna. '\n",
       "                                   'DASHAGRIVA. Ten-necked One •, a title '\n",
       "                                   'given to Ravana. DASHANANA. Ten .. faced '\n",
       "                                   'One, a title given to Ravana. .'},\n",
       "              'score': 0.715905905,\n",
       "              'values': []},\n",
       "             {'id': '257',\n",
       "              'metadata': {'text': 'Having taken leave of the King of Mithila, '\n",
       "                                   'Shri Dasaratha, preceded by the holy sage, '\n",
       "                                   'went away.~~;:bL tJ: ~·~ ~~ seuon ULtara '\n",
       "                                   'PhaJpanl il co.u ..'},\n",
       "              'score': 0.692389786,\n",
       "              'values': []},\n",
       "             {'id': '259',\n",
       "              'metadata': {'text': 'King Dasaratha thereupon duly honoured his '\n",
       "                                   'kinsman who spent the night happily in '\n",
       "                                   'company with the princes. The following '\n",
       "                                   'day, rising early, King Dasaratha '\n",
       "                                   'performing his customary devotions, '\n",
       "                                   'proceeded to the sacrificial pavilion, '\n",
       "                                   'escorted by the sages. At an auspicious '\n",
       "                                   'hour in the presence of Shri Vaaishtha and '\n",
       "                                   'other sages, Shri Ramachandra and his '\n",
       "                                   'brothers adorned with every ornament being '\n",
       "                                   'present, the preliminary ceremonia were '\n",
       "                                   'performed. •-Bbarata beiDa ........ '\n",
       "                                   'arQpeenKaikeyl,dausJ>teroftbeKiasofKallroyl.'},\n",
       "              'score': 0.68298012,\n",
       "              'values': []},\n",
       "             {'id': '1791',\n",
       "              'metadata': {'text': 'A name of Ravana. DASARATHA. King of '\n",
       "                                   'Koshala, filther of R.ama, LabhJNna, '\n",
       "                                   'Bhamta and ShatrUghna. DATYIJIAKA. A smaU '\n",
       "                                   'gallinule resembling a cuckoo. S'},\n",
       "              'score': 0.668055236,\n",
       "              'values': []},\n",
       "             {'id': '2507',\n",
       "              'metadata': {'text': 'My Daughter, thou hast no need to he '\n",
       "                                   'instrueted regarding thy duty towards thy '\n",
       "                                   'husband, nevertheless I mnst teU thee that '\n",
       "                                   'he is the Supreme God.\"Having thus '\n",
       "                                   'addressed his two sons IIICi Sita, King '\n",
       "                                   'Dasaratha, the descendant of Raghu, '\n",
       "                                   'ascended to the region of lndra in his '\n",
       "                                   'chsriot. Mounted on his aerial car, fuU of '\n",
       "                                   'majesty, his body blazing with efulgence, '\n",
       "                                   'that foremost of men, having given his '\n",
       "                                   'counsel to his two sons and Sita, retarned '\n",
       "                                   'to the abode of the Sovereign of the '\n",
       "                                   'Gods.'},\n",
       "              'score': 0.667719662,\n",
       "              'values': []},\n",
       "             {'id': '287',\n",
       "              'metadata': {'text': 'Thy son, resembling Shri Vishnu himself, '\n",
       "                                   'is benevolent and generous to all. King, '\n",
       "                                   'do this with a cheerful mind.\"CHAPTIR TM '\n",
       "                                   'i!ruolws Sltri Rllln shall be instalkd To '\n",
       "                                   'those who with joined palms were making '\n",
       "                                   'this petition, King Dasaratha answered '\n",
       "                                   'courteously :-\" To-day, indeed, I am happy '\n",
       "                                   'and fortunate since the peopl~ desire my '\n",
       "                                   'aon, Shri Rama, to be proclaimed '\n",
       "                                   'regent.\"Thus, in the presence of his '\n",
       "                                   'subjects, the king in gracious aa:enta '\n",
       "                                   'addressed Shri Vasishtha, Vamadeva and '\n",
       "                                   'other sages :-\" In this month of Cbitra, '\n",
       "                                   'when the woods are beautiful with Boweting '\n",
       "                                   'trees, be peaaed, Holy Ones, to prepare '\n",
       "                                   'all things for the installation of my aon '\n",
       "                                   'as heiMpparent.\"'},\n",
       "              'score': 0.660849154,\n",
       "              'values': []},\n",
       "             {'id': '36',\n",
       "              'metadata': {'text': 'RA. MAYANA OF VAL. MIKI King Dasaratba, '\n",
       "                                   'reigning over the earth, had none superior '\n",
       "                                   'or equal to himseJ£ Honoured by his feudal '\n",
       "                                   'lords, surrounded by friends. King '\n",
       "                                   'Dasaratha, like Indra, reigned in majesty. '\n",
       "                                   'Benevolent, powerful, accomplished and '\n",
       "                                   'gracious, King Dasaratba protected Ayodhya '\n",
       "                                   'and shone in splendour like the sun '\n",
       "                                   'illumining the wodd. CHAPTER The king '\n",
       "                                   'desiru to perform a saaifice for the birth '\n",
       "                                   'of a son KING DASARATBA, that glorious and '\n",
       "                                   'righteous king, though performing great '\n",
       "                                   'austerities, was without an heir to the '\n",
       "                                   'thtone. Then the wise and great-souled '\n",
       "                                   'monarch said to himself:\" I will perform '\n",
       "                                   'the honc-saaificc (Aswa-medha) in order to '\n",
       "                                   'have a son.\"Having thus decided, the '\n",
       "                                   'supremely sagacious sovereign convened a '\n",
       "                                   'meeting of his counsellors and addressing '\n",
       "                                   'his chief minister, Sumantra, commanded '\n",
       "                                   'him as follows :\" Send speedily for the '\n",
       "                                   'spiritual preceptors and priests.\"Quick to '\n",
       "                                   'act, Sumantra at once summoned those '\n",
       "                                   'highly learned preceptors and brought '\n",
       "                                   'thither Suyagna, Vamadeva, Javali, Kasyapa '\n",
       "                                   'and Vasishtha together with other eminent '\n",
       "                                   'priests and brahmins. Having offered '\n",
       "                                   'salutations to these holy men, King '\n",
       "                                   'Dasaratha, speaking in gracious accents, '\n",
       "                                   'uttered words full of truth and purpose : '\n",
       "                                   'He said,\" Sages, have practised virtue and '\n",
       "                                   'yet I have not had the good fortune to be '\n",
       "                                   'blessed with a son; it is therefore my '\n",
       "                                   'intention to perform the hone-sacrifice. I '\n",
       "                                   'wisJ act accorditJg the injunctioD. of the '\n",
       "                                   'scriptures; you, Holy . Men, advise tne '\n",
       "                                   'after due deliberation as to how I Cll be '\n",
       "                                   'BUCCCSaful in the proposed IJDdertsking\", '\n",
       "                                   'A=--~~=.,m~~--~by.= o;;;.;&,.:at Will '\n",
       "                                   'lOIIowed by warrioa : tbe ruler of any '\n",
       "                                   'c:ountry the IUiimal = ri:: bouud to fiPt '\n",
       "                                   '.... -: bally tbe bono Wll Ucrificccl with '\n",
       "                                   'Z'},\n",
       "              'score': 0.656645894,\n",
       "              'values': []},\n",
       "             {'id': '350',\n",
       "              'metadata': {'text': 'Finding her heart unmoved by his appeal, '\n",
       "                                   'King Dasaratha like an orphan, fawning and '\n",
       "                                   'abject, fell unconscious at the feet of '\n",
       "                                   'lC.aikeyi as one about to die.'},\n",
       "              'score': 0.652905703,\n",
       "              'values': []},\n",
       "             {'id': '248',\n",
       "              'metadata': {'text': 'Therefore, with the approval of Shri '\n",
       "                                   'Vishwamitra he will relate the descent of '\n",
       "                                   'our dynasty to thee.\"Having spoken, '\n",
       "                                   'Dasaratha became silent and Shri Vasishtha '\n",
       "                                   'then addressed King Janaka and Shri '\n",
       "                                   'Shatsnanda :-\" From Btahman, the '\n",
       "                                   'Unmanifeat, the Eternal and lmperish· able '\n",
       "                                   'Brahma came forth. From him was produced '\n",
       "                                   'Maricha, Maricha begot Kashyapa; Kashyapa '\n",
       "                                   'begot Surya, Surya'},\n",
       "              'score': 0.648562372,\n",
       "              'values': []}],\n",
       " 'namespace': '',\n",
       " 'usage': {'read_units': 6}}"
      ]
     },
     "execution_count": 23,
     "metadata": {},
     "output_type": "execute_result"
    }
   ],
   "source": [
    "# create the query vector\n",
    "xq = embedding_model.encode(query).tolist()\n",
    "\n",
    "# now query\n",
    "top_results = index.query(vector=xq, top_k=10, include_metadata=True)\n",
    "top_results"
   ]
  },
  {
   "cell_type": "markdown",
   "metadata": {},
   "source": [
    "#   Perform re-ranking of the top k results"
   ]
  },
  {
   "cell_type": "code",
   "execution_count": 24,
   "metadata": {},
   "outputs": [],
   "source": [
    "from sentence_transformers import CrossEncoder"
   ]
  },
  {
   "cell_type": "code",
   "execution_count": 25,
   "metadata": {},
   "outputs": [],
   "source": [
    "# Load the model, here we use our base sized model\n",
    "reranking_model = CrossEncoder(\"mixedbread-ai/mxbai-rerank-xsmall-v1\")"
   ]
  },
  {
   "cell_type": "code",
   "execution_count": 35,
   "metadata": {},
   "outputs": [
    {
     "name": "stdout",
     "output_type": "stream",
     "text": [
      "{'id': '821',\n",
      " 'metadata': {'text': 'DASARATHA. King of Koshala, father of Shri Rams, '\n",
      "                      'Lablunana Bharata and~· DBVAS. The Gods or s~ Ooes. Dm. '\n",
      "                      'A title given to Parvan, Shivss consort. DHANIJDA. A '\n",
      "                      'name of Kuvera. DHAIIA. W\"lfe of the Sage ~· DHARMA. '\n",
      "                      'Traditionally or · course of conduct, or duty.'},\n",
      " 'score': 0.749836683,\n",
      " 'values': []}\n",
      "{'id': '3026',\n",
      " 'metadata': {'text': 'DASARATHA. King of Kosbala and father of Rama, '\n",
      "                      'Lakshmana, Bbarata and Sbatrughna. DASHAGRIVA. '\n",
      "                      'Ten-necked One •, a title given to Ravana. DASHANANA. '\n",
      "                      'Ten .. faced One, a title given to Ravana. .'},\n",
      " 'score': 0.715905905,\n",
      " 'values': []}\n",
      "{'id': '257',\n",
      " 'metadata': {'text': 'Having taken leave of the King of Mithila, Shri '\n",
      "                      'Dasaratha, preceded by the holy sage, went away.~~;:bL '\n",
      "                      'tJ: ~·~ ~~ seuon ULtara PhaJpanl il co.u ..'},\n",
      " 'score': 0.692389786,\n",
      " 'values': []}\n",
      "{'id': '259',\n",
      " 'metadata': {'text': 'King Dasaratha thereupon duly honoured his kinsman who '\n",
      "                      'spent the night happily in company with the princes. '\n",
      "                      'The following day, rising early, King Dasaratha '\n",
      "                      'performing his customary devotions, proceeded to the '\n",
      "                      'sacrificial pavilion, escorted by the sages. At an '\n",
      "                      'auspicious hour in the presence of Shri Vaaishtha and '\n",
      "                      'other sages, Shri Ramachandra and his brothers adorned '\n",
      "                      'with every ornament being present, the preliminary '\n",
      "                      'ceremonia were performed. •-Bbarata beiDa ........ '\n",
      "                      'arQpeenKaikeyl,dausJ>teroftbeKiasofKallroyl.'},\n",
      " 'score': 0.68298012,\n",
      " 'values': []}\n",
      "{'id': '1791',\n",
      " 'metadata': {'text': 'A name of Ravana. DASARATHA. King of Koshala, filther '\n",
      "                      'of R.ama, LabhJNna, Bhamta and ShatrUghna. DATYIJIAKA. '\n",
      "                      'A smaU gallinule resembling a cuckoo. S'},\n",
      " 'score': 0.668055236,\n",
      " 'values': []}\n",
      "{'id': '2507',\n",
      " 'metadata': {'text': 'My Daughter, thou hast no need to he instrueted '\n",
      "                      'regarding thy duty towards thy husband, nevertheless I '\n",
      "                      'mnst teU thee that he is the Supreme God.\"Having thus '\n",
      "                      'addressed his two sons IIICi Sita, King Dasaratha, the '\n",
      "                      'descendant of Raghu, ascended to the region of lndra in '\n",
      "                      'his chsriot. Mounted on his aerial car, fuU of majesty, '\n",
      "                      'his body blazing with efulgence, that foremost of men, '\n",
      "                      'having given his counsel to his two sons and Sita, '\n",
      "                      'retarned to the abode of the Sovereign of the Gods.'},\n",
      " 'score': 0.667719662,\n",
      " 'values': []}\n",
      "{'id': '287',\n",
      " 'metadata': {'text': 'Thy son, resembling Shri Vishnu himself, is benevolent '\n",
      "                      'and generous to all. King, do this with a cheerful '\n",
      "                      'mind.\"CHAPTIR TM i!ruolws Sltri Rllln shall be instalkd '\n",
      "                      'To those who with joined palms were making this '\n",
      "                      'petition, King Dasaratha answered courteously :-\" '\n",
      "                      'To-day, indeed, I am happy and fortunate since the '\n",
      "                      'peopl~ desire my aon, Shri Rama, to be proclaimed '\n",
      "                      'regent.\"Thus, in the presence of his subjects, the king '\n",
      "                      'in gracious aa:enta addressed Shri Vasishtha, Vamadeva '\n",
      "                      'and other sages :-\" In this month of Cbitra, when the '\n",
      "                      'woods are beautiful with Boweting trees, be peaaed, '\n",
      "                      'Holy Ones, to prepare all things for the installation '\n",
      "                      'of my aon as heiMpparent.\"'},\n",
      " 'score': 0.660849154,\n",
      " 'values': []}\n",
      "{'id': '36',\n",
      " 'metadata': {'text': 'RA. MAYANA OF VAL. MIKI King Dasaratba, reigning over '\n",
      "                      'the earth, had none superior or equal to himseJ£ '\n",
      "                      'Honoured by his feudal lords, surrounded by friends. '\n",
      "                      'King Dasaratha, like Indra, reigned in majesty. '\n",
      "                      'Benevolent, powerful, accomplished and gracious, King '\n",
      "                      'Dasaratba protected Ayodhya and shone in splendour like '\n",
      "                      'the sun illumining the wodd. CHAPTER The king desiru to '\n",
      "                      'perform a saaifice for the birth of a son KING '\n",
      "                      'DASARATBA, that glorious and righteous king, though '\n",
      "                      'performing great austerities, was without an heir to '\n",
      "                      'the thtone. Then the wise and great-souled monarch said '\n",
      "                      'to himself:\" I will perform the honc-saaificc '\n",
      "                      '(Aswa-medha) in order to have a son.\"Having thus '\n",
      "                      'decided, the supremely sagacious sovereign convened a '\n",
      "                      'meeting of his counsellors and addressing his chief '\n",
      "                      'minister, Sumantra, commanded him as follows :\" Send '\n",
      "                      'speedily for the spiritual preceptors and '\n",
      "                      'priests.\"Quick to act, Sumantra at once summoned those '\n",
      "                      'highly learned preceptors and brought thither Suyagna, '\n",
      "                      'Vamadeva, Javali, Kasyapa and Vasishtha together with '\n",
      "                      'other eminent priests and brahmins. Having offered '\n",
      "                      'salutations to these holy men, King Dasaratha, speaking '\n",
      "                      'in gracious accents, uttered words full of truth and '\n",
      "                      'purpose : He said,\" Sages, have practised virtue and '\n",
      "                      'yet I have not had the good fortune to be blessed with '\n",
      "                      'a son; it is therefore my intention to perform the '\n",
      "                      'hone-sacrifice. I wisJ act accorditJg the injunctioD. '\n",
      "                      'of the scriptures; you, Holy . Men, advise tne after '\n",
      "                      'due deliberation as to how I Cll be BUCCCSaful in the '\n",
      "                      'proposed IJDdertsking\", A=--~~=.,m~~--~by.= '\n",
      "                      'o;;;.;&,.:at Will lOIIowed by warrioa : tbe ruler of '\n",
      "                      'any c:ountry the IUiimal = ri:: bouud to fiPt .... -: '\n",
      "                      'bally tbe bono Wll Ucrificccl with Z'},\n",
      " 'score': 0.656645894,\n",
      " 'values': []}\n",
      "{'id': '350',\n",
      " 'metadata': {'text': 'Finding her heart unmoved by his appeal, King Dasaratha '\n",
      "                      'like an orphan, fawning and abject, fell unconscious at '\n",
      "                      'the feet of lC.aikeyi as one about to die.'},\n",
      " 'score': 0.652905703,\n",
      " 'values': []}\n",
      "{'id': '248',\n",
      " 'metadata': {'text': 'Therefore, with the approval of Shri Vishwamitra he '\n",
      "                      'will relate the descent of our dynasty to thee.\"Having '\n",
      "                      'spoken, Dasaratha became silent and Shri Vasishtha then '\n",
      "                      'addressed King Janaka and Shri Shatsnanda :-\" From '\n",
      "                      'Btahman, the Unmanifeat, the Eternal and lmperish· able '\n",
      "                      'Brahma came forth. From him was produced Maricha, '\n",
      "                      'Maricha begot Kashyapa; Kashyapa begot Surya, Surya'},\n",
      " 'score': 0.648562372,\n",
      " 'values': []}\n"
     ]
    }
   ],
   "source": [
    "for match in top_scores:\n",
    "    print(match)"
   ]
  },
  {
   "cell_type": "code",
   "execution_count": 41,
   "metadata": {},
   "outputs": [
    {
     "name": "stdout",
     "output_type": "stream",
     "text": [
      "DASARATHA. King of Koshala, father of Shri Rams, Lablunana Bharata and~· DBVAS. The Gods or s~ Ooes. Dm. A title given to Parvan, Shivss consort. DHANIJDA. A name of Kuvera. DHAIIA. W\"lfe of the Sage ~· DHARMA. Traditionally or · course of conduct, or duty.\n",
      "DASARATHA. King of Kosbala and father of Rama, Lakshmana, Bbarata and Sbatrughna. DASHAGRIVA. Ten-necked One •, a title given to Ravana. DASHANANA. Ten .. faced One, a title given to Ravana. .\n",
      "Having taken leave of the King of Mithila, Shri Dasaratha, preceded by the holy sage, went away.~~;:bL tJ: ~·~ ~~ seuon ULtara PhaJpanl il co.u ..\n",
      "King Dasaratha thereupon duly honoured his kinsman who spent the night happily in company with the princes. The following day, rising early, King Dasaratha performing his customary devotions, proceeded to the sacrificial pavilion, escorted by the sages. At an auspicious hour in the presence of Shri Vaaishtha and other sages, Shri Ramachandra and his brothers adorned with every ornament being present, the preliminary ceremonia were performed. •-Bbarata beiDa ........ arQpeenKaikeyl,dausJ>teroftbeKiasofKallroyl.\n",
      "A name of Ravana. DASARATHA. King of Koshala, filther of R.ama, LabhJNna, Bhamta and ShatrUghna. DATYIJIAKA. A smaU gallinule resembling a cuckoo. S\n",
      "My Daughter, thou hast no need to he instrueted regarding thy duty towards thy husband, nevertheless I mnst teU thee that he is the Supreme God.\"Having thus addressed his two sons IIICi Sita, King Dasaratha, the descendant of Raghu, ascended to the region of lndra in his chsriot. Mounted on his aerial car, fuU of majesty, his body blazing with efulgence, that foremost of men, having given his counsel to his two sons and Sita, retarned to the abode of the Sovereign of the Gods.\n",
      "Thy son, resembling Shri Vishnu himself, is benevolent and generous to all. King, do this with a cheerful mind.\"CHAPTIR TM i!ruolws Sltri Rllln shall be instalkd To those who with joined palms were making this petition, King Dasaratha answered courteously :-\" To-day, indeed, I am happy and fortunate since the peopl~ desire my aon, Shri Rama, to be proclaimed regent.\"Thus, in the presence of his subjects, the king in gracious aa:enta addressed Shri Vasishtha, Vamadeva and other sages :-\" In this month of Cbitra, when the woods are beautiful with Boweting trees, be peaaed, Holy Ones, to prepare all things for the installation of my aon as heiMpparent.\"\n",
      "RA. MAYANA OF VAL. MIKI King Dasaratba, reigning over the earth, had none superior or equal to himseJ£ Honoured by his feudal lords, surrounded by friends. King Dasaratha, like Indra, reigned in majesty. Benevolent, powerful, accomplished and gracious, King Dasaratba protected Ayodhya and shone in splendour like the sun illumining the wodd. CHAPTER The king desiru to perform a saaifice for the birth of a son KING DASARATBA, that glorious and righteous king, though performing great austerities, was without an heir to the thtone. Then the wise and great-souled monarch said to himself:\" I will perform the honc-saaificc (Aswa-medha) in order to have a son.\"Having thus decided, the supremely sagacious sovereign convened a meeting of his counsellors and addressing his chief minister, Sumantra, commanded him as follows :\" Send speedily for the spiritual preceptors and priests.\"Quick to act, Sumantra at once summoned those highly learned preceptors and brought thither Suyagna, Vamadeva, Javali, Kasyapa and Vasishtha together with other eminent priests and brahmins. Having offered salutations to these holy men, King Dasaratha, speaking in gracious accents, uttered words full of truth and purpose : He said,\" Sages, have practised virtue and yet I have not had the good fortune to be blessed with a son; it is therefore my intention to perform the hone-sacrifice. I wisJ act accorditJg the injunctioD. of the scriptures; you, Holy . Men, advise tne after due deliberation as to how I Cll be BUCCCSaful in the proposed IJDdertsking\", A=--~~=.,m~~--~by.= o;;;.;&,.:at Will lOIIowed by warrioa : tbe ruler of any c:ountry the IUiimal = ri:: bouud to fiPt .... -: bally tbe bono Wll Ucrificccl with Z\n",
      "Finding her heart unmoved by his appeal, King Dasaratha like an orphan, fawning and abject, fell unconscious at the feet of lC.aikeyi as one about to die.\n",
      "Therefore, with the approval of Shri Vishwamitra he will relate the descent of our dynasty to thee.\"Having spoken, Dasaratha became silent and Shri Vasishtha then addressed King Janaka and Shri Shatsnanda :-\" From Btahman, the Unmanifeat, the Eternal and lmperish· able Brahma came forth. From him was produced Maricha, Maricha begot Kashyapa; Kashyapa begot Surya, Surya\n"
     ]
    }
   ],
   "source": [
    "for match in top_scores:\n",
    "    print(match['metadata']['text'])\n",
    "    # print(match['metadata'])"
   ]
  },
  {
   "cell_type": "code",
   "execution_count": 42,
   "metadata": {},
   "outputs": [],
   "source": [
    "top_scores = top_results.matches  # Get the top 10 matches\n",
    "documents = [match['metadata']['text'] for match in top_scores]"
   ]
  },
  {
   "cell_type": "code",
   "execution_count": 43,
   "metadata": {},
   "outputs": [],
   "source": [
    "# Lets get the scores\n",
    "final_results = reranking_model.rank(query, documents, return_documents=True, top_k=5)"
   ]
  },
  {
   "cell_type": "code",
   "execution_count": 44,
   "metadata": {},
   "outputs": [
    {
     "data": {
      "text/plain": [
       "'Who is Dasarath?'"
      ]
     },
     "execution_count": 44,
     "metadata": {},
     "output_type": "execute_result"
    }
   ],
   "source": [
    "query"
   ]
  },
  {
   "cell_type": "code",
   "execution_count": 45,
   "metadata": {},
   "outputs": [
    {
     "data": {
      "text/plain": [
       "[{'corpus_id': 1,\n",
       "  'score': 0.3505557,\n",
       "  'text': 'DASARATHA. King of Kosbala and father of Rama, Lakshmana, Bbarata and Sbatrughna. DASHAGRIVA. Ten-necked One •, a title given to Ravana. DASHANANA. Ten .. faced One, a title given to Ravana. .'},\n",
       " {'corpus_id': 0,\n",
       "  'score': 0.3379044,\n",
       "  'text': 'DASARATHA. King of Koshala, father of Shri Rams, Lablunana Bharata and~· DBVAS. The Gods or s~ Ooes. Dm. A title given to Parvan, Shivss consort. DHANIJDA. A name of Kuvera. DHAIIA. W\"lfe of the Sage ~· DHARMA. Traditionally or · course of conduct, or duty.'},\n",
       " {'corpus_id': 6,\n",
       "  'score': 0.20243756,\n",
       "  'text': 'Thy son, resembling Shri Vishnu himself, is benevolent and generous to all. King, do this with a cheerful mind.\"CHAPTIR TM i!ruolws Sltri Rllln shall be instalkd To those who with joined palms were making this petition, King Dasaratha answered courteously :-\" To-day, indeed, I am happy and fortunate since the peopl~ desire my aon, Shri Rama, to be proclaimed regent.\"Thus, in the presence of his subjects, the king in gracious aa:enta addressed Shri Vasishtha, Vamadeva and other sages :-\" In this month of Cbitra, when the woods are beautiful with Boweting trees, be peaaed, Holy Ones, to prepare all things for the installation of my aon as heiMpparent.\"'},\n",
       " {'corpus_id': 7,\n",
       "  'score': 0.19872123,\n",
       "  'text': 'RA. MAYANA OF VAL. MIKI King Dasaratba, reigning over the earth, had none superior or equal to himseJ£ Honoured by his feudal lords, surrounded by friends. King Dasaratha, like Indra, reigned in majesty. Benevolent, powerful, accomplished and gracious, King Dasaratba protected Ayodhya and shone in splendour like the sun illumining the wodd. CHAPTER The king desiru to perform a saaifice for the birth of a son KING DASARATBA, that glorious and righteous king, though performing great austerities, was without an heir to the thtone. Then the wise and great-souled monarch said to himself:\" I will perform the honc-saaificc (Aswa-medha) in order to have a son.\"Having thus decided, the supremely sagacious sovereign convened a meeting of his counsellors and addressing his chief minister, Sumantra, commanded him as follows :\" Send speedily for the spiritual preceptors and priests.\"Quick to act, Sumantra at once summoned those highly learned preceptors and brought thither Suyagna, Vamadeva, Javali, Kasyapa and Vasishtha together with other eminent priests and brahmins. Having offered salutations to these holy men, King Dasaratha, speaking in gracious accents, uttered words full of truth and purpose : He said,\" Sages, have practised virtue and yet I have not had the good fortune to be blessed with a son; it is therefore my intention to perform the hone-sacrifice. I wisJ act accorditJg the injunctioD. of the scriptures; you, Holy . Men, advise tne after due deliberation as to how I Cll be BUCCCSaful in the proposed IJDdertsking\", A=--~~=.,m~~--~by.= o;;;.;&,.:at Will lOIIowed by warrioa : tbe ruler of any c:ountry the IUiimal = ri:: bouud to fiPt .... -: bally tbe bono Wll Ucrificccl with Z'},\n",
       " {'corpus_id': 5,\n",
       "  'score': 0.18692042,\n",
       "  'text': 'My Daughter, thou hast no need to he instrueted regarding thy duty towards thy husband, nevertheless I mnst teU thee that he is the Supreme God.\"Having thus addressed his two sons IIICi Sita, King Dasaratha, the descendant of Raghu, ascended to the region of lndra in his chsriot. Mounted on his aerial car, fuU of majesty, his body blazing with efulgence, that foremost of men, having given his counsel to his two sons and Sita, retarned to the abode of the Sovereign of the Gods.'}]"
      ]
     },
     "execution_count": 45,
     "metadata": {},
     "output_type": "execute_result"
    }
   ],
   "source": [
    "final_results"
   ]
  },
  {
   "cell_type": "code",
   "execution_count": 48,
   "metadata": {},
   "outputs": [
    {
     "name": "stdout",
     "output_type": "stream",
     "text": [
      "DASARATHA. King of Kosbala and father of Rama, Lakshmana, Bbarata and Sbatrughna. DASHAGRIVA. Ten-necked One •, a title given to Ravana. DASHANANA. Ten .. faced One, a title given to Ravana. .\n",
      "DASARATHA. King of Koshala, father of Shri Rams, Lablunana Bharata and~· DBVAS. The Gods or s~ Ooes. Dm. A title given to Parvan, Shivss consort. DHANIJDA. A name of Kuvera. DHAIIA. W\"lfe of the Sage ~· DHARMA. Traditionally or · course of conduct, or duty.\n",
      "Thy son, resembling Shri Vishnu himself, is benevolent and generous to all. King, do this with a cheerful mind.\"CHAPTIR TM i!ruolws Sltri Rllln shall be instalkd To those who with joined palms were making this petition, King Dasaratha answered courteously :-\" To-day, indeed, I am happy and fortunate since the peopl~ desire my aon, Shri Rama, to be proclaimed regent.\"Thus, in the presence of his subjects, the king in gracious aa:enta addressed Shri Vasishtha, Vamadeva and other sages :-\" In this month of Cbitra, when the woods are beautiful with Boweting trees, be peaaed, Holy Ones, to prepare all things for the installation of my aon as heiMpparent.\"\n",
      "RA. MAYANA OF VAL. MIKI King Dasaratba, reigning over the earth, had none superior or equal to himseJ£ Honoured by his feudal lords, surrounded by friends. King Dasaratha, like Indra, reigned in majesty. Benevolent, powerful, accomplished and gracious, King Dasaratba protected Ayodhya and shone in splendour like the sun illumining the wodd. CHAPTER The king desiru to perform a saaifice for the birth of a son KING DASARATBA, that glorious and righteous king, though performing great austerities, was without an heir to the thtone. Then the wise and great-souled monarch said to himself:\" I will perform the honc-saaificc (Aswa-medha) in order to have a son.\"Having thus decided, the supremely sagacious sovereign convened a meeting of his counsellors and addressing his chief minister, Sumantra, commanded him as follows :\" Send speedily for the spiritual preceptors and priests.\"Quick to act, Sumantra at once summoned those highly learned preceptors and brought thither Suyagna, Vamadeva, Javali, Kasyapa and Vasishtha together with other eminent priests and brahmins. Having offered salutations to these holy men, King Dasaratha, speaking in gracious accents, uttered words full of truth and purpose : He said,\" Sages, have practised virtue and yet I have not had the good fortune to be blessed with a son; it is therefore my intention to perform the hone-sacrifice. I wisJ act accorditJg the injunctioD. of the scriptures; you, Holy . Men, advise tne after due deliberation as to how I Cll be BUCCCSaful in the proposed IJDdertsking\", A=--~~=.,m~~--~by.= o;;;.;&,.:at Will lOIIowed by warrioa : tbe ruler of any c:ountry the IUiimal = ri:: bouud to fiPt .... -: bally tbe bono Wll Ucrificccl with Z\n",
      "My Daughter, thou hast no need to he instrueted regarding thy duty towards thy husband, nevertheless I mnst teU thee that he is the Supreme God.\"Having thus addressed his two sons IIICi Sita, King Dasaratha, the descendant of Raghu, ascended to the region of lndra in his chsriot. Mounted on his aerial car, fuU of majesty, his body blazing with efulgence, that foremost of men, having given his counsel to his two sons and Sita, retarned to the abode of the Sovereign of the Gods.\n"
     ]
    }
   ],
   "source": [
    "for item in final_results:\n",
    "    print(item['text'])"
   ]
  },
  {
   "cell_type": "markdown",
   "metadata": {},
   "source": [
    "### Try to get the page no. of the responses as well"
   ]
  },
  {
   "cell_type": "markdown",
   "metadata": {},
   "source": [
    "#   Pass to an LLM"
   ]
  },
  {
   "cell_type": "code",
   "execution_count": 46,
   "metadata": {},
   "outputs": [],
   "source": [
    "from langchain.prompts.prompt import PromptTemplate\n",
    "from langchain_ollama import ChatOllama"
   ]
  },
  {
   "cell_type": "code",
   "execution_count": 63,
   "metadata": {},
   "outputs": [],
   "source": [
    "#   Pass the retrieved context here\n",
    "\n",
    "# N = 3        #   Hyperaparameter to pass the top-3 results of re-ranking to an LLM\n",
    "# information = [item['text'] for item in final_results[:N]]\n",
    "# information = final_results[0]['text']"
   ]
  },
  {
   "cell_type": "code",
   "execution_count": 71,
   "metadata": {},
   "outputs": [],
   "source": [
    "information = \"\"\"\n",
    "DASARATHA. King of Kosbala and father of Rama, Lakshmana, Bbarata and Sbatrughna. DASHAGRIVA. Ten-necked One •, a title given to Ravana. DASHANANA. Ten .. faced One, a title given to Ravana. .\n",
    "\"\"\""
   ]
  },
  {
   "cell_type": "code",
   "execution_count": 73,
   "metadata": {},
   "outputs": [],
   "source": [
    "summary_template = \"\"\"\n",
    "    Given the information {information} about a prompt, I want to answer the given query from the Indian epic Ramayana: {query}.\n",
    "    You can use your knowledge along with the provide information to answer the question. However, it it given that the information passed here\n",
    "    is exactly correct. Despite all these, if you don't know the answer, simply say No. Don't try to generate\n",
    "    wrong answers to the given query.\n",
    "\"\"\""
   ]
  },
  {
   "cell_type": "code",
   "execution_count": 74,
   "metadata": {},
   "outputs": [],
   "source": [
    "summary_prompt_template = PromptTemplate(\n",
    "    input_variables=[\"information\"], template=summary_template\n",
    ")"
   ]
  },
  {
   "cell_type": "code",
   "execution_count": 75,
   "metadata": {},
   "outputs": [],
   "source": [
    "llm = ChatOllama(model='llama3', temperature=0.3)"
   ]
  },
  {
   "cell_type": "code",
   "execution_count": 80,
   "metadata": {},
   "outputs": [],
   "source": [
    "#   Will take 4 to 5 minutes to answer. Also, your laptop may lag a bit during running this...\n",
    "\n",
    "chain = summary_prompt_template | llm\n",
    "res = chain.invoke(input= {\"information\": information,\n",
    "                           \"query\": query})"
   ]
  },
  {
   "cell_type": "code",
   "execution_count": 81,
   "metadata": {},
   "outputs": [
    {
     "name": "stdout",
     "output_type": "stream",
     "text": [
      "Who is Dasarath?\n"
     ]
    }
   ],
   "source": [
    "print(query)"
   ]
  },
  {
   "cell_type": "code",
   "execution_count": 82,
   "metadata": {},
   "outputs": [
    {
     "name": "stdout",
     "output_type": "stream",
     "text": [
      "content='Based on the provided information and my knowledge of the Indian epic Ramayana, I can confidently answer that Dasarath is King of Kosbala and father of Rama, Lakshmana, Bharata, and Shatrughna.' response_metadata={'model': 'llama3', 'created_at': '2024-07-28T06:36:35.6236096Z', 'message': {'role': 'assistant', 'content': ''}, 'done_reason': 'stop', 'done': True, 'total_duration': 176570674300, 'load_duration': 82261304600, 'prompt_eval_count': 170, 'prompt_eval_duration': 18199678000, 'eval_count': 50, 'eval_duration': 76052640000} id='run-b13508a2-9631-4fd2-8e30-983727fec6be-0' usage_metadata={'input_tokens': 170, 'output_tokens': 50, 'total_tokens': 220}\n"
     ]
    }
   ],
   "source": [
    "print(res)"
   ]
  },
  {
   "cell_type": "markdown",
   "metadata": {},
   "source": [
    "### Langchain Output Parsers:-\n",
    "\n",
    "An output parser is an object in Langchain that helps us parse the output of an LLM. We are going to use it a lot as we can do a lot of cool stuffs with the help of this, such as:-\n",
    "1. Convert into a JSON object\n",
    "2. etc..\n",
    "\n",
    "As of now, we are going to use a String output Parser, which is basically going to access the .content attribute of the AI message that we get."
   ]
  },
  {
   "cell_type": "code",
   "execution_count": 5,
   "metadata": {},
   "outputs": [],
   "source": [
    "from langchain_core.output_parsers import StrOutputParser"
   ]
  },
  {
   "cell_type": "code",
   "execution_count": null,
   "metadata": {},
   "outputs": [],
   "source": [
    "chain = summary_prompt_template | llm | StrOutputParser()\n",
    "res = chain.invoke(input= {\"information\": information})\n",
    "\n",
    "print(res)"
   ]
  }
 ],
 "metadata": {
  "kernelspec": {
   "display_name": "Python 3",
   "language": "python",
   "name": "python3"
  },
  "language_info": {
   "codemirror_mode": {
    "name": "ipython",
    "version": 3
   },
   "file_extension": ".py",
   "mimetype": "text/x-python",
   "name": "python",
   "nbconvert_exporter": "python",
   "pygments_lexer": "ipython3",
   "version": "3.12.4"
  }
 },
 "nbformat": 4,
 "nbformat_minor": 2
}
